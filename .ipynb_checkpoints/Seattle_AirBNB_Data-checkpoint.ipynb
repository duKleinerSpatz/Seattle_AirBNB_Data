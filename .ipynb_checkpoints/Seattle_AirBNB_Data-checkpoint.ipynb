{
 "cells": [
  {
   "cell_type": "markdown",
   "id": "viral-freight",
   "metadata": {
    "toc": true
   },
   "source": [
    "<h1>Table of Contents<span class=\"tocSkip\"></span></h1>\n",
    "<div class=\"toc\"><ul class=\"toc-item\"><li><span><a href=\"#CRISP-DM-Steps\" data-toc-modified-id=\"CRISP-DM-Steps-1\">CRISP DM Steps</a></span></li><li><span><a href=\"#Business-Understanding\" data-toc-modified-id=\"Business-Understanding-2\">Business Understanding</a></span><ul class=\"toc-item\"><li><span><a href=\"#Questions-on-the-data\" data-toc-modified-id=\"Questions-on-the-data-2.1\">Questions on the data</a></span></li></ul></li><li><span><a href=\"#Data-Understanding-&amp;-Preparation\" data-toc-modified-id=\"Data-Understanding-&amp;-Preparation-3\">Data Understanding &amp; Preparation</a></span><ul class=\"toc-item\"><li><span><a href=\"#df_calendar\" data-toc-modified-id=\"df_calendar-3.1\">df_calendar</a></span><ul class=\"toc-item\"><li><span><a href=\"#Comments-on-df_calendar:\" data-toc-modified-id=\"Comments-on-df_calendar:-3.1.1\">Comments on df_calendar:</a></span></li></ul></li><li><span><a href=\"#df_listings\" data-toc-modified-id=\"df_listings-3.2\">df_listings</a></span><ul class=\"toc-item\"><li><span><a href=\"#Comments-on-df_listings:\" data-toc-modified-id=\"Comments-on-df_listings:-3.2.1\">Comments on df_listings:</a></span></li></ul></li><li><span><a href=\"#Map-Overview-of-listings:\" data-toc-modified-id=\"Map-Overview-of-listings:-3.3\">Map Overview of listings:</a></span></li><li><span><a href=\"#df_reviews\" data-toc-modified-id=\"df_reviews-3.4\">df_reviews</a></span><ul class=\"toc-item\"><li><span><a href=\"#Comments-on-df_reviews:\" data-toc-modified-id=\"Comments-on-df_reviews:-3.4.1\">Comments on df_reviews:</a></span></li></ul></li><li><span><a href=\"#Insights\" data-toc-modified-id=\"Insights-3.5\">Insights</a></span><ul class=\"toc-item\"><li><span><a href=\"#Which-are-the-areas/neighbourhoods-with-the-highest/lowest-prices?\" data-toc-modified-id=\"Which-are-the-areas/neighbourhoods-with-the-highest/lowest-prices?-3.5.1\">Which are the areas/neighbourhoods with the highest/lowest prices?</a></span></li><li><span><a href=\"#How-do-the-prices-and-bookings-change-throughout-the-year-(create-seasonal-categories?)\" data-toc-modified-id=\"How-do-the-prices-and-bookings-change-throughout-the-year-(create-seasonal-categories?)-3.5.2\">How do the prices and bookings change throughout the year (create seasonal categories?)</a></span></li><li><span><a href=\"#Can-the-prices-be-predicted-with-features-like-neighbourhood,-number-of-rooms,-reviews-etc.?\" data-toc-modified-id=\"Can-the-prices-be-predicted-with-features-like-neighbourhood,-number-of-rooms,-reviews-etc.?-3.5.3\">Can the prices be predicted with features like neighbourhood, number of rooms, reviews etc.?</a></span></li></ul></li></ul></li><li><span><a href=\"#Modeling-&amp;-Evaluation\" data-toc-modified-id=\"Modeling-&amp;-Evaluation-4\">Modeling &amp; Evaluation</a></span><ul class=\"toc-item\"><li><span><a href=\"#Can-we-predict-an-object's-price-with-the-given-data?\" data-toc-modified-id=\"Can-we-predict-an-object's-price-with-the-given-data?-4.1\">Can we predict an object's price with the given data?</a></span><ul class=\"toc-item\"><li><span><a href=\"#Thoughts:\" data-toc-modified-id=\"Thoughts:-4.1.1\">Thoughts:</a></span></li></ul></li><li><span><a href=\"#Let's-try-to-improve-the-prediction-with-categorical-training-data\" data-toc-modified-id=\"Let's-try-to-improve-the-prediction-with-categorical-training-data-4.2\">Let's try to improve the prediction with categorical training data</a></span><ul class=\"toc-item\"><li><span><a href=\"#Conclusion:-The-object-prices-can-be-predicted-with-the-given-data.-Especially-property-types-and-neighbourhoods-are-strong-indicators.-A-more-complex-model-might-achieve-much-better-results!\" data-toc-modified-id=\"Conclusion:-The-object-prices-can-be-predicted-with-the-given-data.-Especially-property-types-and-neighbourhoods-are-strong-indicators.-A-more-complex-model-might-achieve-much-better-results!-4.2.1\">Conclusion: The object prices can be predicted with the given data. Especially property types and neighbourhoods are strong indicators. A more complex model might achieve much better results!</a></span></li></ul></li><li><span><a href=\"#Can-the-review-score-of-an-object-be-predicted?\" data-toc-modified-id=\"Can-the-review-score-of-an-object-be-predicted?-4.3\">Can the review score of an object be predicted?</a></span><ul class=\"toc-item\"><li><span><a href=\"#Conclusion:-The-easy-model-used-is-not-capable-of-predicting-the-review_scores_rating-with-the-given-information.\" data-toc-modified-id=\"Conclusion:-The-easy-model-used-is-not-capable-of-predicting-the-review_scores_rating-with-the-given-information.-4.3.1\">Conclusion: The easy model used is not capable of predicting the review_scores_rating with the given information.</a></span></li></ul></li></ul></li><li><span><a href=\"#Blog-Post\" data-toc-modified-id=\"Blog-Post-5\">Blog Post</a></span></li></ul></div>"
   ]
  },
  {
   "cell_type": "markdown",
   "id": "personalized-burner",
   "metadata": {},
   "source": [
    "# Udacity Nano Degree Data Scientist\n",
    "# Project1: Seattle AirBNB Data"
   ]
  },
  {
   "cell_type": "markdown",
   "id": "roman-adjustment",
   "metadata": {},
   "source": [
    "## CRISP DM Steps\n",
    "- Business Understanding\n",
    "- Data Understanding\n",
    "- Data Preparation\n",
    "- Modeling\n",
    "- Evaluation\n",
    "- Deployment"
   ]
  },
  {
   "cell_type": "markdown",
   "id": "choice-tablet",
   "metadata": {},
   "source": [
    "## Business Understanding\n",
    "### Questions on the data\n",
    "- Which are the areas/neighbourhoods with the highest/lowest prices?\n",
    "- How do the prices change throughout the year (create seasonal categories?)\n",
    "- Can the prices be predicted with features like neighbourhood, number of rooms, reviews etc.?\n",
    "- Can the review score of an object be predicted?"
   ]
  },
  {
   "cell_type": "code",
   "execution_count": 205,
   "id": "agricultural-curtis",
   "metadata": {},
   "outputs": [
    {
     "data": {
      "text/html": [
       "<style>.container { width:80% !important; }</style>"
      ],
      "text/plain": [
       "<IPython.core.display.HTML object>"
      ]
     },
     "metadata": {},
     "output_type": "display_data"
    }
   ],
   "source": [
    "import pandas as pd\n",
    "from IPython.core.display import display, HTML\n",
    "import gmplot\n",
    "import random\n",
    "import numpy as np\n",
    "from IPython.display import IFrame\n",
    "import matplotlib.pyplot as plt\n",
    "import seaborn as sns\n",
    "from sklearn.model_selection import train_test_split\n",
    "from sklearn.pipeline import Pipeline\n",
    "from sklearn.preprocessing import StandardScaler\n",
    "from sklearn.linear_model import LinearRegression\n",
    "from sklearn.ensemble import RandomForestClassifier\n",
    "from sklearn.metrics import r2_score\n",
    "\n",
    "display(HTML(\"<style>.container { width:80% !important; }</style>\"))\n",
    "\n",
    "pd.set_option(\"display.float_format\", lambda x: \"%.2f\" % x)\n",
    "pd.set_option('display.max_colwidth', 500)"
   ]
  },
  {
   "cell_type": "markdown",
   "id": "printable-jewel",
   "metadata": {},
   "source": [
    "## Data Understanding & Preparation"
   ]
  },
  {
   "cell_type": "code",
   "execution_count": 206,
   "id": "western-service",
   "metadata": {},
   "outputs": [],
   "source": [
    "def get_basic_df_info(df):\n",
    "    \"\"\"\n",
    "    input:\n",
    "        df (DataFrame): a data frame of which general information shall be obtained\n",
    "    output:\n",
    "        Main DataFrame attributes like shape, info, dtypes, describe-table, nans and example rows.\n",
    "    \"\"\"\n",
    "    display(\"shape: \", df.shape)\n",
    "    display(\"info: \", df.info())\n",
    "    display(\"describe: \", df.describe())\n",
    "    display(\"duplicates: \", df.duplicated().sum())\n",
    "    print(\"total nans: \", df.isna().sum().sum(), \" ( = \", (df.isna().sum().sum()/(df.shape[0]*df.shape[1])*100).round(1), \"% of all values)\")\n",
    "    display(\"nunique: \", df.nunique())\n",
    "    try:\n",
    "        display(\"df sample without nans: \", df.dropna().sample(2))\n",
    "    except:\n",
    "        display(\"df sample: \", df.sample(2))\n",
    "    try:\n",
    "        display(\"random row without nans: \", df.dropna().iloc[random.randint(0,df.dropna().shape[0])])\n",
    "    except:\n",
    "        display(\"random row without nans: \", df.iloc[random.randint(0,df.shape[0])])"
   ]
  },
  {
   "cell_type": "code",
   "execution_count": 207,
   "id": "central-cathedral",
   "metadata": {},
   "outputs": [],
   "source": [
    "df_calendar_orig = pd.read_csv(\"data/calendar.csv\")\n",
    "df_listings_orig = pd.read_csv(\"data/listings.csv\")\n",
    "df_reviews_orig = pd.read_csv(\"data/reviews.csv\")"
   ]
  },
  {
   "cell_type": "markdown",
   "id": "informal-contents",
   "metadata": {},
   "source": [
    "### df_calendar"
   ]
  },
  {
   "cell_type": "code",
   "execution_count": 208,
   "id": "overhead-explosion",
   "metadata": {},
   "outputs": [
    {
     "data": {
      "text/plain": [
       "'shape: '"
      ]
     },
     "metadata": {},
     "output_type": "display_data"
    },
    {
     "data": {
      "text/plain": [
       "(1393570, 4)"
      ]
     },
     "metadata": {},
     "output_type": "display_data"
    },
    {
     "name": "stdout",
     "output_type": "stream",
     "text": [
      "<class 'pandas.core.frame.DataFrame'>\n",
      "RangeIndex: 1393570 entries, 0 to 1393569\n",
      "Data columns (total 4 columns):\n",
      " #   Column      Non-Null Count    Dtype \n",
      "---  ------      --------------    ----- \n",
      " 0   listing_id  1393570 non-null  int64 \n",
      " 1   date        1393570 non-null  object\n",
      " 2   available   1393570 non-null  object\n",
      " 3   price       934542 non-null   object\n",
      "dtypes: int64(1), object(3)\n",
      "memory usage: 42.5+ MB\n"
     ]
    },
    {
     "data": {
      "text/plain": [
       "'info: '"
      ]
     },
     "metadata": {},
     "output_type": "display_data"
    },
    {
     "data": {
      "text/plain": [
       "None"
      ]
     },
     "metadata": {},
     "output_type": "display_data"
    },
    {
     "data": {
      "text/plain": [
       "'describe: '"
      ]
     },
     "metadata": {},
     "output_type": "display_data"
    },
    {
     "data": {
      "text/html": [
       "<div>\n",
       "<style scoped>\n",
       "    .dataframe tbody tr th:only-of-type {\n",
       "        vertical-align: middle;\n",
       "    }\n",
       "\n",
       "    .dataframe tbody tr th {\n",
       "        vertical-align: top;\n",
       "    }\n",
       "\n",
       "    .dataframe thead th {\n",
       "        text-align: right;\n",
       "    }\n",
       "</style>\n",
       "<table border=\"1\" class=\"dataframe\">\n",
       "  <thead>\n",
       "    <tr style=\"text-align: right;\">\n",
       "      <th></th>\n",
       "      <th>listing_id</th>\n",
       "    </tr>\n",
       "  </thead>\n",
       "  <tbody>\n",
       "    <tr>\n",
       "      <th>count</th>\n",
       "      <td>1393570.00</td>\n",
       "    </tr>\n",
       "    <tr>\n",
       "      <th>mean</th>\n",
       "      <td>5550111.42</td>\n",
       "    </tr>\n",
       "    <tr>\n",
       "      <th>std</th>\n",
       "      <td>2962273.53</td>\n",
       "    </tr>\n",
       "    <tr>\n",
       "      <th>min</th>\n",
       "      <td>3335.00</td>\n",
       "    </tr>\n",
       "    <tr>\n",
       "      <th>25%</th>\n",
       "      <td>3258213.00</td>\n",
       "    </tr>\n",
       "    <tr>\n",
       "      <th>50%</th>\n",
       "      <td>6118244.50</td>\n",
       "    </tr>\n",
       "    <tr>\n",
       "      <th>75%</th>\n",
       "      <td>8035212.00</td>\n",
       "    </tr>\n",
       "    <tr>\n",
       "      <th>max</th>\n",
       "      <td>10340165.00</td>\n",
       "    </tr>\n",
       "  </tbody>\n",
       "</table>\n",
       "</div>"
      ],
      "text/plain": [
       "       listing_id\n",
       "count  1393570.00\n",
       "mean   5550111.42\n",
       "std    2962273.53\n",
       "min       3335.00\n",
       "25%    3258213.00\n",
       "50%    6118244.50\n",
       "75%    8035212.00\n",
       "max   10340165.00"
      ]
     },
     "metadata": {},
     "output_type": "display_data"
    },
    {
     "data": {
      "text/plain": [
       "'duplicates: '"
      ]
     },
     "metadata": {},
     "output_type": "display_data"
    },
    {
     "data": {
      "text/plain": [
       "0"
      ]
     },
     "metadata": {},
     "output_type": "display_data"
    },
    {
     "name": "stdout",
     "output_type": "stream",
     "text": [
      "total nans:  459028  ( =  8.2 % of all values)\n"
     ]
    },
    {
     "data": {
      "text/plain": [
       "'nunique: '"
      ]
     },
     "metadata": {},
     "output_type": "display_data"
    },
    {
     "data": {
      "text/plain": [
       "listing_id    3818\n",
       "date           365\n",
       "available        2\n",
       "price          669\n",
       "dtype: int64"
      ]
     },
     "metadata": {},
     "output_type": "display_data"
    },
    {
     "data": {
      "text/plain": [
       "'df sample without nans: '"
      ]
     },
     "metadata": {},
     "output_type": "display_data"
    },
    {
     "data": {
      "text/html": [
       "<div>\n",
       "<style scoped>\n",
       "    .dataframe tbody tr th:only-of-type {\n",
       "        vertical-align: middle;\n",
       "    }\n",
       "\n",
       "    .dataframe tbody tr th {\n",
       "        vertical-align: top;\n",
       "    }\n",
       "\n",
       "    .dataframe thead th {\n",
       "        text-align: right;\n",
       "    }\n",
       "</style>\n",
       "<table border=\"1\" class=\"dataframe\">\n",
       "  <thead>\n",
       "    <tr style=\"text-align: right;\">\n",
       "      <th></th>\n",
       "      <th>listing_id</th>\n",
       "      <th>date</th>\n",
       "      <th>available</th>\n",
       "      <th>price</th>\n",
       "    </tr>\n",
       "  </thead>\n",
       "  <tbody>\n",
       "    <tr>\n",
       "      <th>533164</th>\n",
       "      <td>7506165</td>\n",
       "      <td>2016-09-24</td>\n",
       "      <td>t</td>\n",
       "      <td>$280.00</td>\n",
       "    </tr>\n",
       "    <tr>\n",
       "      <th>357132</th>\n",
       "      <td>8273948</td>\n",
       "      <td>2016-06-14</td>\n",
       "      <td>t</td>\n",
       "      <td>$85.00</td>\n",
       "    </tr>\n",
       "  </tbody>\n",
       "</table>\n",
       "</div>"
      ],
      "text/plain": [
       "        listing_id        date available    price\n",
       "533164     7506165  2016-09-24         t  $280.00\n",
       "357132     8273948  2016-06-14         t   $85.00"
      ]
     },
     "metadata": {},
     "output_type": "display_data"
    },
    {
     "data": {
      "text/plain": [
       "'random row without nans: '"
      ]
     },
     "metadata": {},
     "output_type": "display_data"
    },
    {
     "data": {
      "text/plain": [
       "listing_id        757840\n",
       "date          2016-07-11\n",
       "available              t\n",
       "price            $550.00\n",
       "Name: 75014, dtype: object"
      ]
     },
     "metadata": {},
     "output_type": "display_data"
    }
   ],
   "source": [
    "get_basic_df_info(df_calendar_orig)"
   ]
  },
  {
   "cell_type": "markdown",
   "id": "greek-credits",
   "metadata": {},
   "source": [
    "#### Comments on df_calendar:\n",
    "- approximately 1.4m entries (4 columns) -> might drop rows with missing prices where needed\n",
    "- check meaning of \"available\" categories -> probably t = True and f = False -> switch to binary\n",
    "- make date column datetime and price column float\n",
    "- \"only\" data of one year (365 unique dates)"
   ]
  },
  {
   "cell_type": "code",
   "execution_count": 209,
   "id": "piano-crisis",
   "metadata": {},
   "outputs": [],
   "source": [
    "# work on copy of the original data\n",
    "df_calendar = df_calendar_orig.copy()\n",
    "# transform dtype of date column\n",
    "df_calendar.date = pd.to_datetime(df_calendar.date)\n",
    "# make available column entries binary\n",
    "df_calendar.available = df_calendar.available.str.replace(\"t\", \"1\").str.replace(\"f\", \"0\").astype(int)\n",
    "# transform prices to floats\n",
    "df_calendar.price = df_calendar.price.str[1:].str.replace(\",\",\"\").astype(float)"
   ]
  },
  {
   "cell_type": "code",
   "execution_count": 210,
   "id": "judicial-passport",
   "metadata": {},
   "outputs": [
    {
     "data": {
      "text/plain": [
       "'shape: '"
      ]
     },
     "metadata": {},
     "output_type": "display_data"
    },
    {
     "data": {
      "text/plain": [
       "(1393570, 4)"
      ]
     },
     "metadata": {},
     "output_type": "display_data"
    },
    {
     "name": "stdout",
     "output_type": "stream",
     "text": [
      "<class 'pandas.core.frame.DataFrame'>\n",
      "RangeIndex: 1393570 entries, 0 to 1393569\n",
      "Data columns (total 4 columns):\n",
      " #   Column      Non-Null Count    Dtype         \n",
      "---  ------      --------------    -----         \n",
      " 0   listing_id  1393570 non-null  int64         \n",
      " 1   date        1393570 non-null  datetime64[ns]\n",
      " 2   available   1393570 non-null  int32         \n",
      " 3   price       934542 non-null   float64       \n",
      "dtypes: datetime64[ns](1), float64(1), int32(1), int64(1)\n",
      "memory usage: 37.2 MB\n"
     ]
    },
    {
     "data": {
      "text/plain": [
       "'info: '"
      ]
     },
     "metadata": {},
     "output_type": "display_data"
    },
    {
     "data": {
      "text/plain": [
       "None"
      ]
     },
     "metadata": {},
     "output_type": "display_data"
    },
    {
     "data": {
      "text/plain": [
       "'describe: '"
      ]
     },
     "metadata": {},
     "output_type": "display_data"
    },
    {
     "data": {
      "text/html": [
       "<div>\n",
       "<style scoped>\n",
       "    .dataframe tbody tr th:only-of-type {\n",
       "        vertical-align: middle;\n",
       "    }\n",
       "\n",
       "    .dataframe tbody tr th {\n",
       "        vertical-align: top;\n",
       "    }\n",
       "\n",
       "    .dataframe thead th {\n",
       "        text-align: right;\n",
       "    }\n",
       "</style>\n",
       "<table border=\"1\" class=\"dataframe\">\n",
       "  <thead>\n",
       "    <tr style=\"text-align: right;\">\n",
       "      <th></th>\n",
       "      <th>listing_id</th>\n",
       "      <th>available</th>\n",
       "      <th>price</th>\n",
       "    </tr>\n",
       "  </thead>\n",
       "  <tbody>\n",
       "    <tr>\n",
       "      <th>count</th>\n",
       "      <td>1393570.00</td>\n",
       "      <td>1393570.00</td>\n",
       "      <td>934542.00</td>\n",
       "    </tr>\n",
       "    <tr>\n",
       "      <th>mean</th>\n",
       "      <td>5550111.42</td>\n",
       "      <td>0.67</td>\n",
       "      <td>137.94</td>\n",
       "    </tr>\n",
       "    <tr>\n",
       "      <th>std</th>\n",
       "      <td>2962273.53</td>\n",
       "      <td>0.47</td>\n",
       "      <td>105.06</td>\n",
       "    </tr>\n",
       "    <tr>\n",
       "      <th>min</th>\n",
       "      <td>3335.00</td>\n",
       "      <td>0.00</td>\n",
       "      <td>10.00</td>\n",
       "    </tr>\n",
       "    <tr>\n",
       "      <th>25%</th>\n",
       "      <td>3258213.00</td>\n",
       "      <td>0.00</td>\n",
       "      <td>75.00</td>\n",
       "    </tr>\n",
       "    <tr>\n",
       "      <th>50%</th>\n",
       "      <td>6118244.50</td>\n",
       "      <td>1.00</td>\n",
       "      <td>109.00</td>\n",
       "    </tr>\n",
       "    <tr>\n",
       "      <th>75%</th>\n",
       "      <td>8035212.00</td>\n",
       "      <td>1.00</td>\n",
       "      <td>160.00</td>\n",
       "    </tr>\n",
       "    <tr>\n",
       "      <th>max</th>\n",
       "      <td>10340165.00</td>\n",
       "      <td>1.00</td>\n",
       "      <td>1650.00</td>\n",
       "    </tr>\n",
       "  </tbody>\n",
       "</table>\n",
       "</div>"
      ],
      "text/plain": [
       "       listing_id  available     price\n",
       "count  1393570.00 1393570.00 934542.00\n",
       "mean   5550111.42       0.67    137.94\n",
       "std    2962273.53       0.47    105.06\n",
       "min       3335.00       0.00     10.00\n",
       "25%    3258213.00       0.00     75.00\n",
       "50%    6118244.50       1.00    109.00\n",
       "75%    8035212.00       1.00    160.00\n",
       "max   10340165.00       1.00   1650.00"
      ]
     },
     "metadata": {},
     "output_type": "display_data"
    },
    {
     "data": {
      "text/plain": [
       "'duplicates: '"
      ]
     },
     "metadata": {},
     "output_type": "display_data"
    },
    {
     "data": {
      "text/plain": [
       "0"
      ]
     },
     "metadata": {},
     "output_type": "display_data"
    },
    {
     "name": "stdout",
     "output_type": "stream",
     "text": [
      "total nans:  459028  ( =  8.2 % of all values)\n"
     ]
    },
    {
     "data": {
      "text/plain": [
       "'nunique: '"
      ]
     },
     "metadata": {},
     "output_type": "display_data"
    },
    {
     "data": {
      "text/plain": [
       "listing_id    3818\n",
       "date           365\n",
       "available        2\n",
       "price          669\n",
       "dtype: int64"
      ]
     },
     "metadata": {},
     "output_type": "display_data"
    },
    {
     "data": {
      "text/plain": [
       "'df sample without nans: '"
      ]
     },
     "metadata": {},
     "output_type": "display_data"
    },
    {
     "data": {
      "text/html": [
       "<div>\n",
       "<style scoped>\n",
       "    .dataframe tbody tr th:only-of-type {\n",
       "        vertical-align: middle;\n",
       "    }\n",
       "\n",
       "    .dataframe tbody tr th {\n",
       "        vertical-align: top;\n",
       "    }\n",
       "\n",
       "    .dataframe thead th {\n",
       "        text-align: right;\n",
       "    }\n",
       "</style>\n",
       "<table border=\"1\" class=\"dataframe\">\n",
       "  <thead>\n",
       "    <tr style=\"text-align: right;\">\n",
       "      <th></th>\n",
       "      <th>listing_id</th>\n",
       "      <th>date</th>\n",
       "      <th>available</th>\n",
       "      <th>price</th>\n",
       "    </tr>\n",
       "  </thead>\n",
       "  <tbody>\n",
       "    <tr>\n",
       "      <th>52279</th>\n",
       "      <td>1198799</td>\n",
       "      <td>2016-03-28</td>\n",
       "      <td>1</td>\n",
       "      <td>70.00</td>\n",
       "    </tr>\n",
       "    <tr>\n",
       "      <th>62849</th>\n",
       "      <td>10262971</td>\n",
       "      <td>2016-03-13</td>\n",
       "      <td>1</td>\n",
       "      <td>70.00</td>\n",
       "    </tr>\n",
       "  </tbody>\n",
       "</table>\n",
       "</div>"
      ],
      "text/plain": [
       "       listing_id       date  available  price\n",
       "52279     1198799 2016-03-28          1  70.00\n",
       "62849    10262971 2016-03-13          1  70.00"
      ]
     },
     "metadata": {},
     "output_type": "display_data"
    },
    {
     "data": {
      "text/plain": [
       "'random row without nans: '"
      ]
     },
     "metadata": {},
     "output_type": "display_data"
    },
    {
     "data": {
      "text/plain": [
       "listing_id                 716829\n",
       "date          2016-08-31 00:00:00\n",
       "available                       1\n",
       "price                        62.0\n",
       "Name: 721115, dtype: object"
      ]
     },
     "metadata": {},
     "output_type": "display_data"
    }
   ],
   "source": [
    "# check changes\n",
    "get_basic_df_info(df_calendar)"
   ]
  },
  {
   "cell_type": "markdown",
   "id": "global-slave",
   "metadata": {},
   "source": [
    "### df_listings"
   ]
  },
  {
   "cell_type": "code",
   "execution_count": 211,
   "id": "embedded-disclaimer",
   "metadata": {
    "scrolled": false
   },
   "outputs": [
    {
     "data": {
      "text/plain": [
       "'shape: '"
      ]
     },
     "metadata": {},
     "output_type": "display_data"
    },
    {
     "data": {
      "text/plain": [
       "(3818, 92)"
      ]
     },
     "metadata": {},
     "output_type": "display_data"
    },
    {
     "name": "stdout",
     "output_type": "stream",
     "text": [
      "<class 'pandas.core.frame.DataFrame'>\n",
      "RangeIndex: 3818 entries, 0 to 3817\n",
      "Data columns (total 92 columns):\n",
      " #   Column                            Non-Null Count  Dtype  \n",
      "---  ------                            --------------  -----  \n",
      " 0   id                                3818 non-null   int64  \n",
      " 1   listing_url                       3818 non-null   object \n",
      " 2   scrape_id                         3818 non-null   int64  \n",
      " 3   last_scraped                      3818 non-null   object \n",
      " 4   name                              3818 non-null   object \n",
      " 5   summary                           3641 non-null   object \n",
      " 6   space                             3249 non-null   object \n",
      " 7   description                       3818 non-null   object \n",
      " 8   experiences_offered               3818 non-null   object \n",
      " 9   neighborhood_overview             2786 non-null   object \n",
      " 10  notes                             2212 non-null   object \n",
      " 11  transit                           2884 non-null   object \n",
      " 12  thumbnail_url                     3498 non-null   object \n",
      " 13  medium_url                        3498 non-null   object \n",
      " 14  picture_url                       3818 non-null   object \n",
      " 15  xl_picture_url                    3498 non-null   object \n",
      " 16  host_id                           3818 non-null   int64  \n",
      " 17  host_url                          3818 non-null   object \n",
      " 18  host_name                         3816 non-null   object \n",
      " 19  host_since                        3816 non-null   object \n",
      " 20  host_location                     3810 non-null   object \n",
      " 21  host_about                        2959 non-null   object \n",
      " 22  host_response_time                3295 non-null   object \n",
      " 23  host_response_rate                3295 non-null   object \n",
      " 24  host_acceptance_rate              3045 non-null   object \n",
      " 25  host_is_superhost                 3816 non-null   object \n",
      " 26  host_thumbnail_url                3816 non-null   object \n",
      " 27  host_picture_url                  3816 non-null   object \n",
      " 28  host_neighbourhood                3518 non-null   object \n",
      " 29  host_listings_count               3816 non-null   float64\n",
      " 30  host_total_listings_count         3816 non-null   float64\n",
      " 31  host_verifications                3818 non-null   object \n",
      " 32  host_has_profile_pic              3816 non-null   object \n",
      " 33  host_identity_verified            3816 non-null   object \n",
      " 34  street                            3818 non-null   object \n",
      " 35  neighbourhood                     3402 non-null   object \n",
      " 36  neighbourhood_cleansed            3818 non-null   object \n",
      " 37  neighbourhood_group_cleansed      3818 non-null   object \n",
      " 38  city                              3818 non-null   object \n",
      " 39  state                             3818 non-null   object \n",
      " 40  zipcode                           3811 non-null   object \n",
      " 41  market                            3818 non-null   object \n",
      " 42  smart_location                    3818 non-null   object \n",
      " 43  country_code                      3818 non-null   object \n",
      " 44  country                           3818 non-null   object \n",
      " 45  latitude                          3818 non-null   float64\n",
      " 46  longitude                         3818 non-null   float64\n",
      " 47  is_location_exact                 3818 non-null   object \n",
      " 48  property_type                     3817 non-null   object \n",
      " 49  room_type                         3818 non-null   object \n",
      " 50  accommodates                      3818 non-null   int64  \n",
      " 51  bathrooms                         3802 non-null   float64\n",
      " 52  bedrooms                          3812 non-null   float64\n",
      " 53  beds                              3817 non-null   float64\n",
      " 54  bed_type                          3818 non-null   object \n",
      " 55  amenities                         3818 non-null   object \n",
      " 56  square_feet                       97 non-null     float64\n",
      " 57  price                             3818 non-null   object \n",
      " 58  weekly_price                      2009 non-null   object \n",
      " 59  monthly_price                     1517 non-null   object \n",
      " 60  security_deposit                  1866 non-null   object \n",
      " 61  cleaning_fee                      2788 non-null   object \n",
      " 62  guests_included                   3818 non-null   int64  \n",
      " 63  extra_people                      3818 non-null   object \n",
      " 64  minimum_nights                    3818 non-null   int64  \n",
      " 65  maximum_nights                    3818 non-null   int64  \n",
      " 66  calendar_updated                  3818 non-null   object \n",
      " 67  has_availability                  3818 non-null   object \n",
      " 68  availability_30                   3818 non-null   int64  \n",
      " 69  availability_60                   3818 non-null   int64  \n",
      " 70  availability_90                   3818 non-null   int64  \n",
      " 71  availability_365                  3818 non-null   int64  \n",
      " 72  calendar_last_scraped             3818 non-null   object \n",
      " 73  number_of_reviews                 3818 non-null   int64  \n",
      " 74  first_review                      3191 non-null   object \n",
      " 75  last_review                       3191 non-null   object \n",
      " 76  review_scores_rating              3171 non-null   float64\n",
      " 77  review_scores_accuracy            3160 non-null   float64\n",
      " 78  review_scores_cleanliness         3165 non-null   float64\n",
      " 79  review_scores_checkin             3160 non-null   float64\n",
      " 80  review_scores_communication       3167 non-null   float64\n",
      " 81  review_scores_location            3163 non-null   float64\n",
      " 82  review_scores_value               3162 non-null   float64\n",
      " 83  requires_license                  3818 non-null   object \n",
      " 84  license                           0 non-null      float64\n",
      " 85  jurisdiction_names                3818 non-null   object \n",
      " 86  instant_bookable                  3818 non-null   object \n",
      " 87  cancellation_policy               3818 non-null   object \n",
      " 88  require_guest_profile_picture     3818 non-null   object \n",
      " 89  require_guest_phone_verification  3818 non-null   object \n",
      " 90  calculated_host_listings_count    3818 non-null   int64  \n",
      " 91  reviews_per_month                 3191 non-null   float64\n",
      "dtypes: float64(17), int64(13), object(62)\n",
      "memory usage: 2.7+ MB\n"
     ]
    },
    {
     "data": {
      "text/plain": [
       "'info: '"
      ]
     },
     "metadata": {},
     "output_type": "display_data"
    },
    {
     "data": {
      "text/plain": [
       "None"
      ]
     },
     "metadata": {},
     "output_type": "display_data"
    },
    {
     "data": {
      "text/plain": [
       "'describe: '"
      ]
     },
     "metadata": {},
     "output_type": "display_data"
    },
    {
     "data": {
      "text/html": [
       "<div>\n",
       "<style scoped>\n",
       "    .dataframe tbody tr th:only-of-type {\n",
       "        vertical-align: middle;\n",
       "    }\n",
       "\n",
       "    .dataframe tbody tr th {\n",
       "        vertical-align: top;\n",
       "    }\n",
       "\n",
       "    .dataframe thead th {\n",
       "        text-align: right;\n",
       "    }\n",
       "</style>\n",
       "<table border=\"1\" class=\"dataframe\">\n",
       "  <thead>\n",
       "    <tr style=\"text-align: right;\">\n",
       "      <th></th>\n",
       "      <th>id</th>\n",
       "      <th>scrape_id</th>\n",
       "      <th>host_id</th>\n",
       "      <th>host_listings_count</th>\n",
       "      <th>host_total_listings_count</th>\n",
       "      <th>latitude</th>\n",
       "      <th>longitude</th>\n",
       "      <th>accommodates</th>\n",
       "      <th>bathrooms</th>\n",
       "      <th>bedrooms</th>\n",
       "      <th>...</th>\n",
       "      <th>review_scores_rating</th>\n",
       "      <th>review_scores_accuracy</th>\n",
       "      <th>review_scores_cleanliness</th>\n",
       "      <th>review_scores_checkin</th>\n",
       "      <th>review_scores_communication</th>\n",
       "      <th>review_scores_location</th>\n",
       "      <th>review_scores_value</th>\n",
       "      <th>license</th>\n",
       "      <th>calculated_host_listings_count</th>\n",
       "      <th>reviews_per_month</th>\n",
       "    </tr>\n",
       "  </thead>\n",
       "  <tbody>\n",
       "    <tr>\n",
       "      <th>count</th>\n",
       "      <td>3818.00</td>\n",
       "      <td>3818.00</td>\n",
       "      <td>3818.00</td>\n",
       "      <td>3816.00</td>\n",
       "      <td>3816.00</td>\n",
       "      <td>3818.00</td>\n",
       "      <td>3818.00</td>\n",
       "      <td>3818.00</td>\n",
       "      <td>3802.00</td>\n",
       "      <td>3812.00</td>\n",
       "      <td>...</td>\n",
       "      <td>3171.00</td>\n",
       "      <td>3160.00</td>\n",
       "      <td>3165.00</td>\n",
       "      <td>3160.00</td>\n",
       "      <td>3167.00</td>\n",
       "      <td>3163.00</td>\n",
       "      <td>3162.00</td>\n",
       "      <td>0.00</td>\n",
       "      <td>3818.00</td>\n",
       "      <td>3191.00</td>\n",
       "    </tr>\n",
       "    <tr>\n",
       "      <th>mean</th>\n",
       "      <td>5550111.42</td>\n",
       "      <td>20160104002432.00</td>\n",
       "      <td>15785555.11</td>\n",
       "      <td>7.16</td>\n",
       "      <td>7.16</td>\n",
       "      <td>47.63</td>\n",
       "      <td>-122.33</td>\n",
       "      <td>3.35</td>\n",
       "      <td>1.26</td>\n",
       "      <td>1.31</td>\n",
       "      <td>...</td>\n",
       "      <td>94.54</td>\n",
       "      <td>9.64</td>\n",
       "      <td>9.56</td>\n",
       "      <td>9.79</td>\n",
       "      <td>9.81</td>\n",
       "      <td>9.61</td>\n",
       "      <td>9.45</td>\n",
       "      <td>NaN</td>\n",
       "      <td>2.95</td>\n",
       "      <td>2.08</td>\n",
       "    </tr>\n",
       "    <tr>\n",
       "      <th>std</th>\n",
       "      <td>2962660.48</td>\n",
       "      <td>0.00</td>\n",
       "      <td>14583815.27</td>\n",
       "      <td>28.63</td>\n",
       "      <td>28.63</td>\n",
       "      <td>0.04</td>\n",
       "      <td>0.03</td>\n",
       "      <td>1.98</td>\n",
       "      <td>0.59</td>\n",
       "      <td>0.88</td>\n",
       "      <td>...</td>\n",
       "      <td>6.61</td>\n",
       "      <td>0.70</td>\n",
       "      <td>0.80</td>\n",
       "      <td>0.60</td>\n",
       "      <td>0.57</td>\n",
       "      <td>0.63</td>\n",
       "      <td>0.75</td>\n",
       "      <td>NaN</td>\n",
       "      <td>5.89</td>\n",
       "      <td>1.82</td>\n",
       "    </tr>\n",
       "    <tr>\n",
       "      <th>min</th>\n",
       "      <td>3335.00</td>\n",
       "      <td>20160104002432.00</td>\n",
       "      <td>4193.00</td>\n",
       "      <td>1.00</td>\n",
       "      <td>1.00</td>\n",
       "      <td>47.51</td>\n",
       "      <td>-122.42</td>\n",
       "      <td>1.00</td>\n",
       "      <td>0.00</td>\n",
       "      <td>0.00</td>\n",
       "      <td>...</td>\n",
       "      <td>20.00</td>\n",
       "      <td>2.00</td>\n",
       "      <td>3.00</td>\n",
       "      <td>2.00</td>\n",
       "      <td>2.00</td>\n",
       "      <td>4.00</td>\n",
       "      <td>2.00</td>\n",
       "      <td>NaN</td>\n",
       "      <td>1.00</td>\n",
       "      <td>0.02</td>\n",
       "    </tr>\n",
       "    <tr>\n",
       "      <th>25%</th>\n",
       "      <td>3258256.25</td>\n",
       "      <td>20160104002432.00</td>\n",
       "      <td>3275204.00</td>\n",
       "      <td>1.00</td>\n",
       "      <td>1.00</td>\n",
       "      <td>47.61</td>\n",
       "      <td>-122.35</td>\n",
       "      <td>2.00</td>\n",
       "      <td>1.00</td>\n",
       "      <td>1.00</td>\n",
       "      <td>...</td>\n",
       "      <td>93.00</td>\n",
       "      <td>9.00</td>\n",
       "      <td>9.00</td>\n",
       "      <td>10.00</td>\n",
       "      <td>10.00</td>\n",
       "      <td>9.00</td>\n",
       "      <td>9.00</td>\n",
       "      <td>NaN</td>\n",
       "      <td>1.00</td>\n",
       "      <td>0.69</td>\n",
       "    </tr>\n",
       "    <tr>\n",
       "      <th>50%</th>\n",
       "      <td>6118244.50</td>\n",
       "      <td>20160104002432.00</td>\n",
       "      <td>10558142.00</td>\n",
       "      <td>1.00</td>\n",
       "      <td>1.00</td>\n",
       "      <td>47.62</td>\n",
       "      <td>-122.33</td>\n",
       "      <td>3.00</td>\n",
       "      <td>1.00</td>\n",
       "      <td>1.00</td>\n",
       "      <td>...</td>\n",
       "      <td>96.00</td>\n",
       "      <td>10.00</td>\n",
       "      <td>10.00</td>\n",
       "      <td>10.00</td>\n",
       "      <td>10.00</td>\n",
       "      <td>10.00</td>\n",
       "      <td>10.00</td>\n",
       "      <td>NaN</td>\n",
       "      <td>1.00</td>\n",
       "      <td>1.54</td>\n",
       "    </tr>\n",
       "    <tr>\n",
       "      <th>75%</th>\n",
       "      <td>8035126.75</td>\n",
       "      <td>20160104002432.00</td>\n",
       "      <td>25903093.25</td>\n",
       "      <td>3.00</td>\n",
       "      <td>3.00</td>\n",
       "      <td>47.66</td>\n",
       "      <td>-122.31</td>\n",
       "      <td>4.00</td>\n",
       "      <td>1.00</td>\n",
       "      <td>2.00</td>\n",
       "      <td>...</td>\n",
       "      <td>99.00</td>\n",
       "      <td>10.00</td>\n",
       "      <td>10.00</td>\n",
       "      <td>10.00</td>\n",
       "      <td>10.00</td>\n",
       "      <td>10.00</td>\n",
       "      <td>10.00</td>\n",
       "      <td>NaN</td>\n",
       "      <td>2.00</td>\n",
       "      <td>3.00</td>\n",
       "    </tr>\n",
       "    <tr>\n",
       "      <th>max</th>\n",
       "      <td>10340165.00</td>\n",
       "      <td>20160104002432.00</td>\n",
       "      <td>53208610.00</td>\n",
       "      <td>502.00</td>\n",
       "      <td>502.00</td>\n",
       "      <td>47.73</td>\n",
       "      <td>-122.24</td>\n",
       "      <td>16.00</td>\n",
       "      <td>8.00</td>\n",
       "      <td>7.00</td>\n",
       "      <td>...</td>\n",
       "      <td>100.00</td>\n",
       "      <td>10.00</td>\n",
       "      <td>10.00</td>\n",
       "      <td>10.00</td>\n",
       "      <td>10.00</td>\n",
       "      <td>10.00</td>\n",
       "      <td>10.00</td>\n",
       "      <td>NaN</td>\n",
       "      <td>37.00</td>\n",
       "      <td>12.15</td>\n",
       "    </tr>\n",
       "  </tbody>\n",
       "</table>\n",
       "<p>8 rows × 30 columns</p>\n",
       "</div>"
      ],
      "text/plain": [
       "               id         scrape_id     host_id  host_listings_count  \\\n",
       "count     3818.00           3818.00     3818.00              3816.00   \n",
       "mean   5550111.42 20160104002432.00 15785555.11                 7.16   \n",
       "std    2962660.48              0.00 14583815.27                28.63   \n",
       "min       3335.00 20160104002432.00     4193.00                 1.00   \n",
       "25%    3258256.25 20160104002432.00  3275204.00                 1.00   \n",
       "50%    6118244.50 20160104002432.00 10558142.00                 1.00   \n",
       "75%    8035126.75 20160104002432.00 25903093.25                 3.00   \n",
       "max   10340165.00 20160104002432.00 53208610.00               502.00   \n",
       "\n",
       "       host_total_listings_count  latitude  longitude  accommodates  \\\n",
       "count                    3816.00   3818.00    3818.00       3818.00   \n",
       "mean                        7.16     47.63    -122.33          3.35   \n",
       "std                        28.63      0.04       0.03          1.98   \n",
       "min                         1.00     47.51    -122.42          1.00   \n",
       "25%                         1.00     47.61    -122.35          2.00   \n",
       "50%                         1.00     47.62    -122.33          3.00   \n",
       "75%                         3.00     47.66    -122.31          4.00   \n",
       "max                       502.00     47.73    -122.24         16.00   \n",
       "\n",
       "       bathrooms  bedrooms  ...  review_scores_rating  review_scores_accuracy  \\\n",
       "count    3802.00   3812.00  ...               3171.00                 3160.00   \n",
       "mean        1.26      1.31  ...                 94.54                    9.64   \n",
       "std         0.59      0.88  ...                  6.61                    0.70   \n",
       "min         0.00      0.00  ...                 20.00                    2.00   \n",
       "25%         1.00      1.00  ...                 93.00                    9.00   \n",
       "50%         1.00      1.00  ...                 96.00                   10.00   \n",
       "75%         1.00      2.00  ...                 99.00                   10.00   \n",
       "max         8.00      7.00  ...                100.00                   10.00   \n",
       "\n",
       "       review_scores_cleanliness  review_scores_checkin  \\\n",
       "count                    3165.00                3160.00   \n",
       "mean                        9.56                   9.79   \n",
       "std                         0.80                   0.60   \n",
       "min                         3.00                   2.00   \n",
       "25%                         9.00                  10.00   \n",
       "50%                        10.00                  10.00   \n",
       "75%                        10.00                  10.00   \n",
       "max                        10.00                  10.00   \n",
       "\n",
       "       review_scores_communication  review_scores_location  \\\n",
       "count                      3167.00                 3163.00   \n",
       "mean                          9.81                    9.61   \n",
       "std                           0.57                    0.63   \n",
       "min                           2.00                    4.00   \n",
       "25%                          10.00                    9.00   \n",
       "50%                          10.00                   10.00   \n",
       "75%                          10.00                   10.00   \n",
       "max                          10.00                   10.00   \n",
       "\n",
       "       review_scores_value  license  calculated_host_listings_count  \\\n",
       "count              3162.00     0.00                         3818.00   \n",
       "mean                  9.45      NaN                            2.95   \n",
       "std                   0.75      NaN                            5.89   \n",
       "min                   2.00      NaN                            1.00   \n",
       "25%                   9.00      NaN                            1.00   \n",
       "50%                  10.00      NaN                            1.00   \n",
       "75%                  10.00      NaN                            2.00   \n",
       "max                  10.00      NaN                           37.00   \n",
       "\n",
       "       reviews_per_month  \n",
       "count            3191.00  \n",
       "mean                2.08  \n",
       "std                 1.82  \n",
       "min                 0.02  \n",
       "25%                 0.69  \n",
       "50%                 1.54  \n",
       "75%                 3.00  \n",
       "max                12.15  \n",
       "\n",
       "[8 rows x 30 columns]"
      ]
     },
     "metadata": {},
     "output_type": "display_data"
    },
    {
     "data": {
      "text/plain": [
       "'duplicates: '"
      ]
     },
     "metadata": {},
     "output_type": "display_data"
    },
    {
     "data": {
      "text/plain": [
       "0"
      ]
     },
     "metadata": {},
     "output_type": "display_data"
    },
    {
     "name": "stdout",
     "output_type": "stream",
     "text": [
      "total nans:  29819  ( =  8.5 % of all values)\n"
     ]
    },
    {
     "data": {
      "text/plain": [
       "'nunique: '"
      ]
     },
     "metadata": {},
     "output_type": "display_data"
    },
    {
     "data": {
      "text/plain": [
       "id                                  3818\n",
       "listing_url                         3818\n",
       "scrape_id                              1\n",
       "last_scraped                           1\n",
       "name                                3792\n",
       "                                    ... \n",
       "cancellation_policy                    3\n",
       "require_guest_profile_picture          2\n",
       "require_guest_phone_verification       2\n",
       "calculated_host_listings_count        18\n",
       "reviews_per_month                    654\n",
       "Length: 92, dtype: int64"
      ]
     },
     "metadata": {},
     "output_type": "display_data"
    },
    {
     "data": {
      "text/plain": [
       "'df sample: '"
      ]
     },
     "metadata": {},
     "output_type": "display_data"
    },
    {
     "data": {
      "text/html": [
       "<div>\n",
       "<style scoped>\n",
       "    .dataframe tbody tr th:only-of-type {\n",
       "        vertical-align: middle;\n",
       "    }\n",
       "\n",
       "    .dataframe tbody tr th {\n",
       "        vertical-align: top;\n",
       "    }\n",
       "\n",
       "    .dataframe thead th {\n",
       "        text-align: right;\n",
       "    }\n",
       "</style>\n",
       "<table border=\"1\" class=\"dataframe\">\n",
       "  <thead>\n",
       "    <tr style=\"text-align: right;\">\n",
       "      <th></th>\n",
       "      <th>id</th>\n",
       "      <th>listing_url</th>\n",
       "      <th>scrape_id</th>\n",
       "      <th>last_scraped</th>\n",
       "      <th>name</th>\n",
       "      <th>summary</th>\n",
       "      <th>space</th>\n",
       "      <th>description</th>\n",
       "      <th>experiences_offered</th>\n",
       "      <th>neighborhood_overview</th>\n",
       "      <th>...</th>\n",
       "      <th>review_scores_value</th>\n",
       "      <th>requires_license</th>\n",
       "      <th>license</th>\n",
       "      <th>jurisdiction_names</th>\n",
       "      <th>instant_bookable</th>\n",
       "      <th>cancellation_policy</th>\n",
       "      <th>require_guest_profile_picture</th>\n",
       "      <th>require_guest_phone_verification</th>\n",
       "      <th>calculated_host_listings_count</th>\n",
       "      <th>reviews_per_month</th>\n",
       "    </tr>\n",
       "  </thead>\n",
       "  <tbody>\n",
       "    <tr>\n",
       "      <th>714</th>\n",
       "      <td>2979387</td>\n",
       "      <td>https://www.airbnb.com/rooms/2979387</td>\n",
       "      <td>20160104002432</td>\n",
       "      <td>2016-01-04</td>\n",
       "      <td>UNIVERSITY DISTRC CHARMER (Sleep10)</td>\n",
       "      <td>This elegant home SLEEPS 10 Guests. Centrally Located in Seattle's University District, this fully furnished 3 Bdrm/2-Bath, 2100 SF home and a kitchen that features a booth style eating area.Walk only 2 blocks to main drag of abudance restaurants etc</td>\n",
       "      <td>YOUR OWN HOME: 2100 SF HUGE HOME- UniversIty District world charm is OH SO CLOSE to UW CAMPUS(half mile)/Seattle(4mile). This home has remained beautiful in its 1911  Elegant natural look full of CHARACTER. It has newly varnished hardwood in LR &amp; Dining room. Plush New carpets through out home. 3 total bedrooms. 2 full bathrooms. LARGE DINING. Great for large groups. Main Floor-  Bedroom #1 has one queen size bed and  a bunk bed.(sleep 4) Bedroom #2  has a queen bed. (Sleeps 2) UPPER FLOOR: ...</td>\n",
       "      <td>This elegant home SLEEPS 10 Guests. Centrally Located in Seattle's University District, this fully furnished 3 Bdrm/2-Bath, 2100 SF home and a kitchen that features a booth style eating area.Walk only 2 blocks to main drag of abudance restaurants etc YOUR OWN HOME: 2100 SF HUGE HOME- UniversIty District world charm is OH SO CLOSE to UW CAMPUS(half mile)/Seattle(4mile). This home has remained beautiful in its 1911  Elegant natural look full of CHARACTER. It has newly varnished hardwood in LR ...</td>\n",
       "      <td>none</td>\n",
       "      <td>This Univeristy neighborhood has lots of homes that have been there for ages. seasoned home owners are proud to live here. It close to EVERYWEHRE. WALK TO STORE/SHOPS/ UNIVERSITY STRIP/MINI MART/WALGREEN/SAFEWAY. FREEWAYS IS 2 BLOCKS FROM HOME. SEATTLE IS 5 MILES TO DOWNTOWN SEATTLE SPACE NEEDLE, KEY ARENA, PIKES PLACE MARKET, WATER FRONT, LAKE UNION, GREEN LAKE, WALLINGFORD ZOO, BIKE EVERYWHERE ON CAMPUS.  TAKE A CANOE ON LAKE WASHINGTON  AT THE UNIVERSITY RENTAL. COFFEE SHOPS, BUBBLE TEA, ...</td>\n",
       "      <td>...</td>\n",
       "      <td>9.00</td>\n",
       "      <td>f</td>\n",
       "      <td>NaN</td>\n",
       "      <td>WASHINGTON</td>\n",
       "      <td>f</td>\n",
       "      <td>strict</td>\n",
       "      <td>f</td>\n",
       "      <td>f</td>\n",
       "      <td>2</td>\n",
       "      <td>1.02</td>\n",
       "    </tr>\n",
       "    <tr>\n",
       "      <th>1617</th>\n",
       "      <td>5036739</td>\n",
       "      <td>https://www.airbnb.com/rooms/5036739</td>\n",
       "      <td>20160104002432</td>\n",
       "      <td>2016-01-04</td>\n",
       "      <td>Spacious Studio Condo</td>\n",
       "      <td>Spacious Studio Condo, located just steps from all of down town Seattle's hot spots.  Walking distance to Pike Place Market and More. Currently available weekend of 1/23.  Come stay and see the Seahawks play!</td>\n",
       "      <td>NaN</td>\n",
       "      <td>Spacious Studio Condo, located just steps from all of down town Seattle's hot spots.  Walking distance to Pike Place Market and More. Currently available weekend of 1/23.  Come stay and see the Seahawks play!</td>\n",
       "      <td>none</td>\n",
       "      <td>NaN</td>\n",
       "      <td>...</td>\n",
       "      <td>NaN</td>\n",
       "      <td>f</td>\n",
       "      <td>NaN</td>\n",
       "      <td>WASHINGTON</td>\n",
       "      <td>f</td>\n",
       "      <td>flexible</td>\n",
       "      <td>f</td>\n",
       "      <td>f</td>\n",
       "      <td>1</td>\n",
       "      <td>NaN</td>\n",
       "    </tr>\n",
       "  </tbody>\n",
       "</table>\n",
       "<p>2 rows × 92 columns</p>\n",
       "</div>"
      ],
      "text/plain": [
       "           id                           listing_url       scrape_id  \\\n",
       "714   2979387  https://www.airbnb.com/rooms/2979387  20160104002432   \n",
       "1617  5036739  https://www.airbnb.com/rooms/5036739  20160104002432   \n",
       "\n",
       "     last_scraped                                 name  \\\n",
       "714    2016-01-04  UNIVERSITY DISTRC CHARMER (Sleep10)   \n",
       "1617   2016-01-04               Spacious Studio Condo    \n",
       "\n",
       "                                                                                                                                                                                                                                                         summary  \\\n",
       "714   This elegant home SLEEPS 10 Guests. Centrally Located in Seattle's University District, this fully furnished 3 Bdrm/2-Bath, 2100 SF home and a kitchen that features a booth style eating area.Walk only 2 blocks to main drag of abudance restaurants etc   \n",
       "1617                                            Spacious Studio Condo, located just steps from all of down town Seattle's hot spots.  Walking distance to Pike Place Market and More. Currently available weekend of 1/23.  Come stay and see the Seahawks play!   \n",
       "\n",
       "                                                                                                                                                                                                                                                                                                                                                                                                                                                                                                                    space  \\\n",
       "714   YOUR OWN HOME: 2100 SF HUGE HOME- UniversIty District world charm is OH SO CLOSE to UW CAMPUS(half mile)/Seattle(4mile). This home has remained beautiful in its 1911  Elegant natural look full of CHARACTER. It has newly varnished hardwood in LR & Dining room. Plush New carpets through out home. 3 total bedrooms. 2 full bathrooms. LARGE DINING. Great for large groups. Main Floor-  Bedroom #1 has one queen size bed and  a bunk bed.(sleep 4) Bedroom #2  has a queen bed. (Sleeps 2) UPPER FLOOR: ...   \n",
       "1617                                                                                                                                                                                                                                                                                                                                                                                                                                                                                                                  NaN   \n",
       "\n",
       "                                                                                                                                                                                                                                                                                                                                                                                                                                                                                                              description  \\\n",
       "714   This elegant home SLEEPS 10 Guests. Centrally Located in Seattle's University District, this fully furnished 3 Bdrm/2-Bath, 2100 SF home and a kitchen that features a booth style eating area.Walk only 2 blocks to main drag of abudance restaurants etc YOUR OWN HOME: 2100 SF HUGE HOME- UniversIty District world charm is OH SO CLOSE to UW CAMPUS(half mile)/Seattle(4mile). This home has remained beautiful in its 1911  Elegant natural look full of CHARACTER. It has newly varnished hardwood in LR ...   \n",
       "1617                                                                                                                                                                                                                                                                                                     Spacious Studio Condo, located just steps from all of down town Seattle's hot spots.  Walking distance to Pike Place Market and More. Currently available weekend of 1/23.  Come stay and see the Seahawks play!   \n",
       "\n",
       "     experiences_offered  \\\n",
       "714                 none   \n",
       "1617                none   \n",
       "\n",
       "                                                                                                                                                                                                                                                                                                                                                                                                                                                                                                    neighborhood_overview  \\\n",
       "714   This Univeristy neighborhood has lots of homes that have been there for ages. seasoned home owners are proud to live here. It close to EVERYWEHRE. WALK TO STORE/SHOPS/ UNIVERSITY STRIP/MINI MART/WALGREEN/SAFEWAY. FREEWAYS IS 2 BLOCKS FROM HOME. SEATTLE IS 5 MILES TO DOWNTOWN SEATTLE SPACE NEEDLE, KEY ARENA, PIKES PLACE MARKET, WATER FRONT, LAKE UNION, GREEN LAKE, WALLINGFORD ZOO, BIKE EVERYWHERE ON CAMPUS.  TAKE A CANOE ON LAKE WASHINGTON  AT THE UNIVERSITY RENTAL. COFFEE SHOPS, BUBBLE TEA, ...   \n",
       "1617                                                                                                                                                                                                                                                                                                                                                                                                                                                                                                                  NaN   \n",
       "\n",
       "      ... review_scores_value requires_license license jurisdiction_names  \\\n",
       "714   ...                9.00                f     NaN         WASHINGTON   \n",
       "1617  ...                 NaN                f     NaN         WASHINGTON   \n",
       "\n",
       "     instant_bookable cancellation_policy  require_guest_profile_picture  \\\n",
       "714                 f              strict                              f   \n",
       "1617                f            flexible                              f   \n",
       "\n",
       "     require_guest_phone_verification calculated_host_listings_count  \\\n",
       "714                                 f                              2   \n",
       "1617                                f                              1   \n",
       "\n",
       "     reviews_per_month  \n",
       "714               1.02  \n",
       "1617               NaN  \n",
       "\n",
       "[2 rows x 92 columns]"
      ]
     },
     "metadata": {},
     "output_type": "display_data"
    },
    {
     "data": {
      "text/plain": [
       "'random row without nans: '"
      ]
     },
     "metadata": {},
     "output_type": "display_data"
    },
    {
     "data": {
      "text/plain": [
       "id                                                               6390214\n",
       "listing_url                         https://www.airbnb.com/rooms/6390214\n",
       "scrape_id                                                 20160104002432\n",
       "last_scraped                                                  2016-01-04\n",
       "name                                      Centrally located comfy studio\n",
       "                                                    ...                 \n",
       "cancellation_policy                                             flexible\n",
       "require_guest_profile_picture                                          f\n",
       "require_guest_phone_verification                                       f\n",
       "calculated_host_listings_count                                         1\n",
       "reviews_per_month                                                   2.68\n",
       "Name: 2636, Length: 92, dtype: object"
      ]
     },
     "metadata": {},
     "output_type": "display_data"
    }
   ],
   "source": [
    "get_basic_df_info(df_listings_orig)"
   ]
  },
  {
   "cell_type": "markdown",
   "id": "parental-ivory",
   "metadata": {},
   "source": [
    "#### Comments on df_listings:\n",
    "- I'll reduce the amount of columns to the ones that I consider interesting/useful for nice insights and training models\n",
    "- understand meaning of the 3 neighbourhood columns -> I suppose the _group_cleansed one is containing a corrected and generalized version of the other ones, so I'll work with that\n",
    "- since we are only analyzing seattle data, there is no need for data like zipcode, city, state, country etc.\n",
    "- unfortunately there is only few data in the square_feet column! Maybe it'll still be useful\n",
    "- convert dtype of price column\n",
    "- minimum of square_feet is 0? -> replace zeros with \"nan\"\n",
    "- lower all characters in categorical columns and keep only streetname in street column\n",
    "- check boxplots of numeric columns"
   ]
  },
  {
   "cell_type": "code",
   "execution_count": 212,
   "id": "designing-bikini",
   "metadata": {},
   "outputs": [],
   "source": [
    "# reduce df_listings to relevant columns\n",
    "df_listings = df_listings_orig.copy().iloc[:, [0,4,5,7,16,34,37,45,46,48,49,50,51,52,53,56,57,73,76,77,78,79,80,81,82,91]]\n",
    "# replace zeros in square_feet column with nan\n",
    "df_listings.square_feet.replace(0, np.nan, inplace=True)\n",
    "# transform prices to floats\n",
    "df_listings.price = df_listings.price.str[1:].str.replace(\",\",\"\").astype(float)"
   ]
  },
  {
   "cell_type": "code",
   "execution_count": 213,
   "id": "finished-laugh",
   "metadata": {},
   "outputs": [
    {
     "data": {
      "text/plain": [
       "street                          1442\n",
       "neighbourhood_group_cleansed      17\n",
       "property_type                     16\n",
       "dtype: int64"
      ]
     },
     "metadata": {},
     "output_type": "display_data"
    }
   ],
   "source": [
    "df_listings[[\"street\", \"neighbourhood_group_cleansed\", \"property_type\"]].head(5)\n",
    "display(df_listings[[\"street\", \"neighbourhood_group_cleansed\", \"property_type\"]].nunique())"
   ]
  },
  {
   "cell_type": "code",
   "execution_count": 214,
   "id": "complete-drilling",
   "metadata": {},
   "outputs": [
    {
     "data": {
      "text/plain": [
       "street                          1232\n",
       "neighbourhood_group_cleansed      17\n",
       "property_type                     16\n",
       "dtype: int64"
      ]
     },
     "execution_count": 214,
     "metadata": {},
     "output_type": "execute_result"
    }
   ],
   "source": [
    "# lower all characters & only keep streetname\n",
    "list_catCols = df_listings.select_dtypes(include=['object']).columns\n",
    "df_listings[list_catCols] = df_listings[list_catCols].apply(lambda col: col.str.lower())\n",
    "df_listings.street = df_listings.street.str.split(\",\").apply(lambda x: x[0])\n",
    "df_listings[[\"street\", \"neighbourhood_group_cleansed\", \"property_type\"]].nunique()"
   ]
  },
  {
   "cell_type": "code",
   "execution_count": 215,
   "id": "upper-kingdom",
   "metadata": {},
   "outputs": [
    {
     "data": {
      "image/png": "[encoded data removed]",
      "text/plain": [
       "<Figure size 1440x360 with 1 Axes>"
      ]
     },
     "metadata": {
      "needs_background": "light"
     },
     "output_type": "display_data"
    }
   ],
   "source": [
    "# check boxplots\n",
    "df_listings[[\"bathrooms\", \"bedrooms\", \"beds\"]].boxplot(figsize=(20,5));"
   ]
  },
  {
   "cell_type": "code",
   "execution_count": 216,
   "id": "protected-positive",
   "metadata": {},
   "outputs": [
    {
     "data": {
      "image/png": "[encoded data removed]",
      "text/plain": [
       "<Figure size 1440x360 with 1 Axes>"
      ]
     },
     "metadata": {
      "needs_background": "light"
     },
     "output_type": "display_data"
    }
   ],
   "source": [
    "df_listings[[\"price\", \"number_of_reviews\", \"review_scores_rating\"]].boxplot(figsize=(20,5));"
   ]
  },
  {
   "cell_type": "code",
   "execution_count": 217,
   "id": "advanced-shield",
   "metadata": {},
   "outputs": [
    {
     "data": {
      "image/png": "[encoded data removed]",
      "text/plain": [
       "<Figure size 1440x360 with 1 Axes>"
      ]
     },
     "metadata": {
      "needs_background": "light"
     },
     "output_type": "display_data"
    }
   ],
   "source": [
    "df_listings[[\"review_scores_accuracy\", \"review_scores_cleanliness\", \"review_scores_checkin\", \"review_scores_communication\", \"review_scores_location\", \"review_scores_value\"]].boxplot(figsize=(20,5));"
   ]
  },
  {
   "cell_type": "code",
   "execution_count": 218,
   "id": "commercial-singing",
   "metadata": {
    "scrolled": false
   },
   "outputs": [
    {
     "data": {
      "text/plain": [
       "'shape: '"
      ]
     },
     "metadata": {},
     "output_type": "display_data"
    },
    {
     "data": {
      "text/plain": [
       "(3818, 26)"
      ]
     },
     "metadata": {},
     "output_type": "display_data"
    },
    {
     "name": "stdout",
     "output_type": "stream",
     "text": [
      "<class 'pandas.core.frame.DataFrame'>\n",
      "RangeIndex: 3818 entries, 0 to 3817\n",
      "Data columns (total 26 columns):\n",
      " #   Column                        Non-Null Count  Dtype  \n",
      "---  ------                        --------------  -----  \n",
      " 0   id                            3818 non-null   int64  \n",
      " 1   name                          3818 non-null   object \n",
      " 2   summary                       3641 non-null   object \n",
      " 3   description                   3818 non-null   object \n",
      " 4   host_id                       3818 non-null   int64  \n",
      " 5   street                        3818 non-null   object \n",
      " 6   neighbourhood_group_cleansed  3818 non-null   object \n",
      " 7   latitude                      3818 non-null   float64\n",
      " 8   longitude                     3818 non-null   float64\n",
      " 9   property_type                 3817 non-null   object \n",
      " 10  room_type                     3818 non-null   object \n",
      " 11  accommodates                  3818 non-null   int64  \n",
      " 12  bathrooms                     3802 non-null   float64\n",
      " 13  bedrooms                      3812 non-null   float64\n",
      " 14  beds                          3817 non-null   float64\n",
      " 15  square_feet                   92 non-null     float64\n",
      " 16  price                         3818 non-null   float64\n",
      " 17  number_of_reviews             3818 non-null   int64  \n",
      " 18  review_scores_rating          3171 non-null   float64\n",
      " 19  review_scores_accuracy        3160 non-null   float64\n",
      " 20  review_scores_cleanliness     3165 non-null   float64\n",
      " 21  review_scores_checkin         3160 non-null   float64\n",
      " 22  review_scores_communication   3167 non-null   float64\n",
      " 23  review_scores_location        3163 non-null   float64\n",
      " 24  review_scores_value           3162 non-null   float64\n",
      " 25  reviews_per_month             3191 non-null   float64\n",
      "dtypes: float64(15), int64(4), object(7)\n",
      "memory usage: 775.7+ KB\n"
     ]
    },
    {
     "data": {
      "text/plain": [
       "'info: '"
      ]
     },
     "metadata": {},
     "output_type": "display_data"
    },
    {
     "data": {
      "text/plain": [
       "None"
      ]
     },
     "metadata": {},
     "output_type": "display_data"
    },
    {
     "data": {
      "text/plain": [
       "'describe: '"
      ]
     },
     "metadata": {},
     "output_type": "display_data"
    },
    {
     "data": {
      "text/html": [
       "<div>\n",
       "<style scoped>\n",
       "    .dataframe tbody tr th:only-of-type {\n",
       "        vertical-align: middle;\n",
       "    }\n",
       "\n",
       "    .dataframe tbody tr th {\n",
       "        vertical-align: top;\n",
       "    }\n",
       "\n",
       "    .dataframe thead th {\n",
       "        text-align: right;\n",
       "    }\n",
       "</style>\n",
       "<table border=\"1\" class=\"dataframe\">\n",
       "  <thead>\n",
       "    <tr style=\"text-align: right;\">\n",
       "      <th></th>\n",
       "      <th>id</th>\n",
       "      <th>host_id</th>\n",
       "      <th>latitude</th>\n",
       "      <th>longitude</th>\n",
       "      <th>accommodates</th>\n",
       "      <th>bathrooms</th>\n",
       "      <th>bedrooms</th>\n",
       "      <th>beds</th>\n",
       "      <th>square_feet</th>\n",
       "      <th>price</th>\n",
       "      <th>number_of_reviews</th>\n",
       "      <th>review_scores_rating</th>\n",
       "      <th>review_scores_accuracy</th>\n",
       "      <th>review_scores_cleanliness</th>\n",
       "      <th>review_scores_checkin</th>\n",
       "      <th>review_scores_communication</th>\n",
       "      <th>review_scores_location</th>\n",
       "      <th>review_scores_value</th>\n",
       "      <th>reviews_per_month</th>\n",
       "    </tr>\n",
       "  </thead>\n",
       "  <tbody>\n",
       "    <tr>\n",
       "      <th>count</th>\n",
       "      <td>3818.00</td>\n",
       "      <td>3818.00</td>\n",
       "      <td>3818.00</td>\n",
       "      <td>3818.00</td>\n",
       "      <td>3818.00</td>\n",
       "      <td>3802.00</td>\n",
       "      <td>3812.00</td>\n",
       "      <td>3817.00</td>\n",
       "      <td>92.00</td>\n",
       "      <td>3818.00</td>\n",
       "      <td>3818.00</td>\n",
       "      <td>3171.00</td>\n",
       "      <td>3160.00</td>\n",
       "      <td>3165.00</td>\n",
       "      <td>3160.00</td>\n",
       "      <td>3167.00</td>\n",
       "      <td>3163.00</td>\n",
       "      <td>3162.00</td>\n",
       "      <td>3191.00</td>\n",
       "    </tr>\n",
       "    <tr>\n",
       "      <th>mean</th>\n",
       "      <td>5550111.42</td>\n",
       "      <td>15785555.11</td>\n",
       "      <td>47.63</td>\n",
       "      <td>-122.33</td>\n",
       "      <td>3.35</td>\n",
       "      <td>1.26</td>\n",
       "      <td>1.31</td>\n",
       "      <td>1.74</td>\n",
       "      <td>901.07</td>\n",
       "      <td>127.98</td>\n",
       "      <td>22.22</td>\n",
       "      <td>94.54</td>\n",
       "      <td>9.64</td>\n",
       "      <td>9.56</td>\n",
       "      <td>9.79</td>\n",
       "      <td>9.81</td>\n",
       "      <td>9.61</td>\n",
       "      <td>9.45</td>\n",
       "      <td>2.08</td>\n",
       "    </tr>\n",
       "    <tr>\n",
       "      <th>std</th>\n",
       "      <td>2962660.48</td>\n",
       "      <td>14583815.27</td>\n",
       "      <td>0.04</td>\n",
       "      <td>0.03</td>\n",
       "      <td>1.98</td>\n",
       "      <td>0.59</td>\n",
       "      <td>0.88</td>\n",
       "      <td>1.14</td>\n",
       "      <td>658.21</td>\n",
       "      <td>90.25</td>\n",
       "      <td>37.73</td>\n",
       "      <td>6.61</td>\n",
       "      <td>0.70</td>\n",
       "      <td>0.80</td>\n",
       "      <td>0.60</td>\n",
       "      <td>0.57</td>\n",
       "      <td>0.63</td>\n",
       "      <td>0.75</td>\n",
       "      <td>1.82</td>\n",
       "    </tr>\n",
       "    <tr>\n",
       "      <th>min</th>\n",
       "      <td>3335.00</td>\n",
       "      <td>4193.00</td>\n",
       "      <td>47.51</td>\n",
       "      <td>-122.42</td>\n",
       "      <td>1.00</td>\n",
       "      <td>0.00</td>\n",
       "      <td>0.00</td>\n",
       "      <td>1.00</td>\n",
       "      <td>1.00</td>\n",
       "      <td>20.00</td>\n",
       "      <td>0.00</td>\n",
       "      <td>20.00</td>\n",
       "      <td>2.00</td>\n",
       "      <td>3.00</td>\n",
       "      <td>2.00</td>\n",
       "      <td>2.00</td>\n",
       "      <td>4.00</td>\n",
       "      <td>2.00</td>\n",
       "      <td>0.02</td>\n",
       "    </tr>\n",
       "    <tr>\n",
       "      <th>25%</th>\n",
       "      <td>3258256.25</td>\n",
       "      <td>3275204.00</td>\n",
       "      <td>47.61</td>\n",
       "      <td>-122.35</td>\n",
       "      <td>2.00</td>\n",
       "      <td>1.00</td>\n",
       "      <td>1.00</td>\n",
       "      <td>1.00</td>\n",
       "      <td>476.25</td>\n",
       "      <td>75.00</td>\n",
       "      <td>2.00</td>\n",
       "      <td>93.00</td>\n",
       "      <td>9.00</td>\n",
       "      <td>9.00</td>\n",
       "      <td>10.00</td>\n",
       "      <td>10.00</td>\n",
       "      <td>9.00</td>\n",
       "      <td>9.00</td>\n",
       "      <td>0.69</td>\n",
       "    </tr>\n",
       "    <tr>\n",
       "      <th>50%</th>\n",
       "      <td>6118244.50</td>\n",
       "      <td>10558142.00</td>\n",
       "      <td>47.62</td>\n",
       "      <td>-122.33</td>\n",
       "      <td>3.00</td>\n",
       "      <td>1.00</td>\n",
       "      <td>1.00</td>\n",
       "      <td>1.00</td>\n",
       "      <td>760.00</td>\n",
       "      <td>100.00</td>\n",
       "      <td>9.00</td>\n",
       "      <td>96.00</td>\n",
       "      <td>10.00</td>\n",
       "      <td>10.00</td>\n",
       "      <td>10.00</td>\n",
       "      <td>10.00</td>\n",
       "      <td>10.00</td>\n",
       "      <td>10.00</td>\n",
       "      <td>1.54</td>\n",
       "    </tr>\n",
       "    <tr>\n",
       "      <th>75%</th>\n",
       "      <td>8035126.75</td>\n",
       "      <td>25903093.25</td>\n",
       "      <td>47.66</td>\n",
       "      <td>-122.31</td>\n",
       "      <td>4.00</td>\n",
       "      <td>1.00</td>\n",
       "      <td>2.00</td>\n",
       "      <td>2.00</td>\n",
       "      <td>1200.00</td>\n",
       "      <td>150.00</td>\n",
       "      <td>26.00</td>\n",
       "      <td>99.00</td>\n",
       "      <td>10.00</td>\n",
       "      <td>10.00</td>\n",
       "      <td>10.00</td>\n",
       "      <td>10.00</td>\n",
       "      <td>10.00</td>\n",
       "      <td>10.00</td>\n",
       "      <td>3.00</td>\n",
       "    </tr>\n",
       "    <tr>\n",
       "      <th>max</th>\n",
       "      <td>10340165.00</td>\n",
       "      <td>53208610.00</td>\n",
       "      <td>47.73</td>\n",
       "      <td>-122.24</td>\n",
       "      <td>16.00</td>\n",
       "      <td>8.00</td>\n",
       "      <td>7.00</td>\n",
       "      <td>15.00</td>\n",
       "      <td>3000.00</td>\n",
       "      <td>1000.00</td>\n",
       "      <td>474.00</td>\n",
       "      <td>100.00</td>\n",
       "      <td>10.00</td>\n",
       "      <td>10.00</td>\n",
       "      <td>10.00</td>\n",
       "      <td>10.00</td>\n",
       "      <td>10.00</td>\n",
       "      <td>10.00</td>\n",
       "      <td>12.15</td>\n",
       "    </tr>\n",
       "  </tbody>\n",
       "</table>\n",
       "</div>"
      ],
      "text/plain": [
       "               id     host_id  latitude  longitude  accommodates  bathrooms  \\\n",
       "count     3818.00     3818.00   3818.00    3818.00       3818.00    3802.00   \n",
       "mean   5550111.42 15785555.11     47.63    -122.33          3.35       1.26   \n",
       "std    2962660.48 14583815.27      0.04       0.03          1.98       0.59   \n",
       "min       3335.00     4193.00     47.51    -122.42          1.00       0.00   \n",
       "25%    3258256.25  3275204.00     47.61    -122.35          2.00       1.00   \n",
       "50%    6118244.50 10558142.00     47.62    -122.33          3.00       1.00   \n",
       "75%    8035126.75 25903093.25     47.66    -122.31          4.00       1.00   \n",
       "max   10340165.00 53208610.00     47.73    -122.24         16.00       8.00   \n",
       "\n",
       "       bedrooms    beds  square_feet   price  number_of_reviews  \\\n",
       "count   3812.00 3817.00        92.00 3818.00            3818.00   \n",
       "mean       1.31    1.74       901.07  127.98              22.22   \n",
       "std        0.88    1.14       658.21   90.25              37.73   \n",
       "min        0.00    1.00         1.00   20.00               0.00   \n",
       "25%        1.00    1.00       476.25   75.00               2.00   \n",
       "50%        1.00    1.00       760.00  100.00               9.00   \n",
       "75%        2.00    2.00      1200.00  150.00              26.00   \n",
       "max        7.00   15.00      3000.00 1000.00             474.00   \n",
       "\n",
       "       review_scores_rating  review_scores_accuracy  \\\n",
       "count               3171.00                 3160.00   \n",
       "mean                  94.54                    9.64   \n",
       "std                    6.61                    0.70   \n",
       "min                   20.00                    2.00   \n",
       "25%                   93.00                    9.00   \n",
       "50%                   96.00                   10.00   \n",
       "75%                   99.00                   10.00   \n",
       "max                  100.00                   10.00   \n",
       "\n",
       "       review_scores_cleanliness  review_scores_checkin  \\\n",
       "count                    3165.00                3160.00   \n",
       "mean                        9.56                   9.79   \n",
       "std                         0.80                   0.60   \n",
       "min                         3.00                   2.00   \n",
       "25%                         9.00                  10.00   \n",
       "50%                        10.00                  10.00   \n",
       "75%                        10.00                  10.00   \n",
       "max                        10.00                  10.00   \n",
       "\n",
       "       review_scores_communication  review_scores_location  \\\n",
       "count                      3167.00                 3163.00   \n",
       "mean                          9.81                    9.61   \n",
       "std                           0.57                    0.63   \n",
       "min                           2.00                    4.00   \n",
       "25%                          10.00                    9.00   \n",
       "50%                          10.00                   10.00   \n",
       "75%                          10.00                   10.00   \n",
       "max                          10.00                   10.00   \n",
       "\n",
       "       review_scores_value  reviews_per_month  \n",
       "count              3162.00            3191.00  \n",
       "mean                  9.45               2.08  \n",
       "std                   0.75               1.82  \n",
       "min                   2.00               0.02  \n",
       "25%                   9.00               0.69  \n",
       "50%                  10.00               1.54  \n",
       "75%                  10.00               3.00  \n",
       "max                  10.00              12.15  "
      ]
     },
     "metadata": {},
     "output_type": "display_data"
    },
    {
     "data": {
      "text/plain": [
       "'duplicates: '"
      ]
     },
     "metadata": {},
     "output_type": "display_data"
    },
    {
     "data": {
      "text/plain": [
       "0"
      ]
     },
     "metadata": {},
     "output_type": "display_data"
    },
    {
     "name": "stdout",
     "output_type": "stream",
     "text": [
      "total nans:  9132  ( =  9.2 % of all values)\n"
     ]
    },
    {
     "data": {
      "text/plain": [
       "'nunique: '"
      ]
     },
     "metadata": {},
     "output_type": "display_data"
    },
    {
     "data": {
      "text/plain": [
       "id                              3818\n",
       "name                            3785\n",
       "summary                         3477\n",
       "description                     3742\n",
       "host_id                         2751\n",
       "street                          1232\n",
       "neighbourhood_group_cleansed      17\n",
       "latitude                        3818\n",
       "longitude                       3818\n",
       "property_type                     16\n",
       "room_type                          3\n",
       "accommodates                      15\n",
       "bathrooms                         12\n",
       "bedrooms                           8\n",
       "beds                              11\n",
       "square_feet                       46\n",
       "price                            273\n",
       "number_of_reviews                195\n",
       "review_scores_rating              42\n",
       "review_scores_accuracy             7\n",
       "review_scores_cleanliness          8\n",
       "review_scores_checkin              8\n",
       "review_scores_communication        8\n",
       "review_scores_location             6\n",
       "review_scores_value                8\n",
       "reviews_per_month                654\n",
       "dtype: int64"
      ]
     },
     "metadata": {},
     "output_type": "display_data"
    },
    {
     "data": {
      "text/plain": [
       "'df sample without nans: '"
      ]
     },
     "metadata": {},
     "output_type": "display_data"
    },
    {
     "data": {
      "text/html": [
       "<div>\n",
       "<style scoped>\n",
       "    .dataframe tbody tr th:only-of-type {\n",
       "        vertical-align: middle;\n",
       "    }\n",
       "\n",
       "    .dataframe tbody tr th {\n",
       "        vertical-align: top;\n",
       "    }\n",
       "\n",
       "    .dataframe thead th {\n",
       "        text-align: right;\n",
       "    }\n",
       "</style>\n",
       "<table border=\"1\" class=\"dataframe\">\n",
       "  <thead>\n",
       "    <tr style=\"text-align: right;\">\n",
       "      <th></th>\n",
       "      <th>id</th>\n",
       "      <th>name</th>\n",
       "      <th>summary</th>\n",
       "      <th>description</th>\n",
       "      <th>host_id</th>\n",
       "      <th>street</th>\n",
       "      <th>neighbourhood_group_cleansed</th>\n",
       "      <th>latitude</th>\n",
       "      <th>longitude</th>\n",
       "      <th>property_type</th>\n",
       "      <th>...</th>\n",
       "      <th>price</th>\n",
       "      <th>number_of_reviews</th>\n",
       "      <th>review_scores_rating</th>\n",
       "      <th>review_scores_accuracy</th>\n",
       "      <th>review_scores_cleanliness</th>\n",
       "      <th>review_scores_checkin</th>\n",
       "      <th>review_scores_communication</th>\n",
       "      <th>review_scores_location</th>\n",
       "      <th>review_scores_value</th>\n",
       "      <th>reviews_per_month</th>\n",
       "    </tr>\n",
       "  </thead>\n",
       "  <tbody>\n",
       "    <tr>\n",
       "      <th>2125</th>\n",
       "      <td>202174</td>\n",
       "      <td>modern retreat, high end amenities</td>\n",
       "      <td>our \"green built\", 1+ bedroom, 2 bath town home is a modernists treat!  on a quiet street with a dedicated parking space in back, it's located close to the stadiums, seattle u, chinatown and capitol hill. enjoy local beer/wine upon your arrival.</td>\n",
       "      <td>our \"green built\", 1+ bedroom, 2 bath town home is a modernists treat!  on a quiet street with a dedicated parking space in back, it's located close to the stadiums, seattle u, chinatown and capitol hill. enjoy local beer/wine upon your arrival.   a modern, well appointed town home within walking distance to capitol hill (hottest restaurant and bar scene in seattle) and chinatown (great for cheap eats). high-end kitchen and cozy heated floors. soaring ceilings in the huge bedroom, luxury bat...</td>\n",
       "      <td>58235</td>\n",
       "      <td>e fir st</td>\n",
       "      <td>beacon hill</td>\n",
       "      <td>47.60</td>\n",
       "      <td>-122.32</td>\n",
       "      <td>house</td>\n",
       "      <td>...</td>\n",
       "      <td>159.00</td>\n",
       "      <td>14</td>\n",
       "      <td>96.00</td>\n",
       "      <td>10.00</td>\n",
       "      <td>10.00</td>\n",
       "      <td>10.00</td>\n",
       "      <td>10.00</td>\n",
       "      <td>9.00</td>\n",
       "      <td>9.00</td>\n",
       "      <td>0.33</td>\n",
       "    </tr>\n",
       "    <tr>\n",
       "      <th>1308</th>\n",
       "      <td>1493197</td>\n",
       "      <td>2 bed space needle view</td>\n",
       "      <td>this cozy two bedroom offers your own private patio deck and a (phone number hidden) dollar view of the space needle from the comfort of \"home\".</td>\n",
       "      <td>this cozy two bedroom offers your own private patio deck and a (phone number hidden) dollar view of the space needle from the comfort of \"home\". this beautiful two bedroom, 1 bathroom modern condo is located where belltown meets the seattle center and is located in the shadow of seattle's world famous space needle. nightlife, clubs, museums, restaurants and the arts are all just steps from your door in this modern two bedroom condo.  located in seattle's belltown neighborhood and one block a...</td>\n",
       "      <td>74305</td>\n",
       "      <td>cedar street</td>\n",
       "      <td>downtown</td>\n",
       "      <td>47.62</td>\n",
       "      <td>-122.35</td>\n",
       "      <td>apartment</td>\n",
       "      <td>...</td>\n",
       "      <td>275.00</td>\n",
       "      <td>22</td>\n",
       "      <td>95.00</td>\n",
       "      <td>9.00</td>\n",
       "      <td>10.00</td>\n",
       "      <td>10.00</td>\n",
       "      <td>10.00</td>\n",
       "      <td>10.00</td>\n",
       "      <td>9.00</td>\n",
       "      <td>0.78</td>\n",
       "    </tr>\n",
       "  </tbody>\n",
       "</table>\n",
       "<p>2 rows × 26 columns</p>\n",
       "</div>"
      ],
      "text/plain": [
       "           id                                name  \\\n",
       "2125   202174  modern retreat, high end amenities   \n",
       "1308  1493197             2 bed space needle view   \n",
       "\n",
       "                                                                                                                                                                                                                                                      summary  \\\n",
       "2125  our \"green built\", 1+ bedroom, 2 bath town home is a modernists treat!  on a quiet street with a dedicated parking space in back, it's located close to the stadiums, seattle u, chinatown and capitol hill. enjoy local beer/wine upon your arrival.     \n",
       "1308                                                                                                         this cozy two bedroom offers your own private patio deck and a (phone number hidden) dollar view of the space needle from the comfort of \"home\".   \n",
       "\n",
       "                                                                                                                                                                                                                                                                                                                                                                                                                                                                                                              description  \\\n",
       "2125  our \"green built\", 1+ bedroom, 2 bath town home is a modernists treat!  on a quiet street with a dedicated parking space in back, it's located close to the stadiums, seattle u, chinatown and capitol hill. enjoy local beer/wine upon your arrival.   a modern, well appointed town home within walking distance to capitol hill (hottest restaurant and bar scene in seattle) and chinatown (great for cheap eats). high-end kitchen and cozy heated floors. soaring ceilings in the huge bedroom, luxury bat...   \n",
       "1308  this cozy two bedroom offers your own private patio deck and a (phone number hidden) dollar view of the space needle from the comfort of \"home\". this beautiful two bedroom, 1 bathroom modern condo is located where belltown meets the seattle center and is located in the shadow of seattle's world famous space needle. nightlife, clubs, museums, restaurants and the arts are all just steps from your door in this modern two bedroom condo.  located in seattle's belltown neighborhood and one block a...   \n",
       "\n",
       "      host_id        street neighbourhood_group_cleansed  latitude  longitude  \\\n",
       "2125    58235      e fir st                  beacon hill     47.60    -122.32   \n",
       "1308    74305  cedar street                     downtown     47.62    -122.35   \n",
       "\n",
       "     property_type  ...  price  number_of_reviews  review_scores_rating  \\\n",
       "2125         house  ... 159.00                 14                 96.00   \n",
       "1308     apartment  ... 275.00                 22                 95.00   \n",
       "\n",
       "      review_scores_accuracy  review_scores_cleanliness  \\\n",
       "2125                   10.00                      10.00   \n",
       "1308                    9.00                      10.00   \n",
       "\n",
       "      review_scores_checkin  review_scores_communication  \\\n",
       "2125                  10.00                        10.00   \n",
       "1308                  10.00                        10.00   \n",
       "\n",
       "      review_scores_location  review_scores_value  reviews_per_month  \n",
       "2125                    9.00                 9.00               0.33  \n",
       "1308                   10.00                 9.00               0.78  \n",
       "\n",
       "[2 rows x 26 columns]"
      ]
     },
     "metadata": {},
     "output_type": "display_data"
    },
    {
     "data": {
      "text/plain": [
       "'random row without nans: '"
      ]
     },
     "metadata": {},
     "output_type": "display_data"
    },
    {
     "data": {
      "text/plain": [
       "id                                                                                                                                                                                                                                                                                                                                                                                                                                                                                                                                             7369\n",
       "name                                                                                                                                                                                                                                                                                                                                                                                                                                                                                                                       launchingpad/landingpad \n",
       "summary                                                                                                                                                                                                                                                                                                   contemporary condo on the western edge of pike pine/capitol hill, just minutes walk from light rail station, bus stops, and downtown core. bedroom and living room open onto balcony.  dishwasher/washer/dryer and fully stocked kitchen.\n",
       "description                     contemporary condo on the western edge of pike pine/capitol hill, just minutes walk from light rail station, bus stops, and downtown core. bedroom and living room open onto balcony.  dishwasher/washer/dryer and fully stocked kitchen. spacious condo with all the amenities you'll have full access to all kitchen and bathroom appliances, as well as tv/dvd/wifi we can arrange for a personal or remote welcome, depending on our logistics. pike/pine is the most urban neighborhood in seattle.  parkin...\n",
       "host_id                                                                                                                                                                                                                                                                                                                                                                                                                                                                                                                                       19425\n",
       "street                                                                                                                                                                                                                                                                                                                                                                                                                                                                                                                                 bellevue ave\n",
       "neighbourhood_group_cleansed                                                                                                                                                                                                                                                                                                                                                                                                                                                                                                           capitol hill\n",
       "latitude                                                                                                                                                                                                                                                                                                                                                                                                                                                                                                                                      47.62\n",
       "longitude                                                                                                                                                                                                                                                                                                                                                                                                                                                                                                                                   -122.33\n",
       "property_type                                                                                                                                                                                                                                                                                                                                                                                                                                                                                                                           condominium\n",
       "room_type                                                                                                                                                                                                                                                                                                                                                                                                                                                                                                                           entire home/apt\n",
       "accommodates                                                                                                                                                                                                                                                                                                                                                                                                                                                                                                                                      2\n",
       "bathrooms                                                                                                                                                                                                                                                                                                                                                                                                                                                                                                                                       1.0\n",
       "bedrooms                                                                                                                                                                                                                                                                                                                                                                                                                                                                                                                                        1.0\n",
       "beds                                                                                                                                                                                                                                                                                                                                                                                                                                                                                                                                            1.0\n",
       "square_feet                                                                                                                                                                                                                                                                                                                                                                                                                                                                                                                                   800.0\n",
       "price                                                                                                                                                                                                                                                                                                                                                                                                                                                                                                                                          85.0\n",
       "number_of_reviews                                                                                                                                                                                                                                                                                                                                                                                                                                                                                                                                40\n",
       "review_scores_rating                                                                                                                                                                                                                                                                                                                                                                                                                                                                                                                           94.0\n",
       "review_scores_accuracy                                                                                                                                                                                                                                                                                                                                                                                                                                                                                                                         10.0\n",
       "review_scores_cleanliness                                                                                                                                                                                                                                                                                                                                                                                                                                                                                                                      10.0\n",
       "review_scores_checkin                                                                                                                                                                                                                                                                                                                                                                                                                                                                                                                          10.0\n",
       "review_scores_communication                                                                                                                                                                                                                                                                                                                                                                                                                                                                                                                    10.0\n",
       "review_scores_location                                                                                                                                                                                                                                                                                                                                                                                                                                                                                                                         10.0\n",
       "review_scores_value                                                                                                                                                                                                                                                                                                                                                                                                                                                                                                                             9.0\n",
       "reviews_per_month                                                                                                                                                                                                                                                                                                                                                                                                                                                                                                                               0.5\n",
       "Name: 2757, dtype: object"
      ]
     },
     "metadata": {},
     "output_type": "display_data"
    }
   ],
   "source": [
    "# check df stats after cleaning\n",
    "get_basic_df_info(df_listings)"
   ]
  },
  {
   "cell_type": "markdown",
   "id": "figured-animal",
   "metadata": {},
   "source": [
    "### Map Overview of listings:"
   ]
  },
  {
   "cell_type": "code",
   "execution_count": 219,
   "id": "rough-length",
   "metadata": {},
   "outputs": [
    {
     "data": {
      "text/html": [
       "\n",
       "        <iframe\n",
       "            width=\"30%\"\n",
       "            height=\"500px\"\n",
       "            src=\"map.html\"\n",
       "            frameborder=\"0\"\n",
       "            allowfullscreen\n",
       "        ></iframe>\n",
       "        "
      ],
      "text/plain": [
       "<IPython.lib.display.IFrame at 0x2abb323d2b0>"
      ]
     },
     "execution_count": 219,
     "metadata": {},
     "output_type": "execute_result"
    }
   ],
   "source": [
    "df_map = df_listings[[\"latitude\", \"longitude\", \"neighbourhood_group_cleansed\"]]\n",
    "\n",
    "lat_lim = [df_map.latitude.min(), df_map.latitude.max(), df_map.latitude.max(), df_map.latitude.min(), df_map.latitude.min()]\n",
    "lon_lim = [df_map.longitude.min(), df_map.longitude.min(), df_map.longitude.max(), df_map.longitude.max(), df_map.longitude.min()]\n",
    "\n",
    "gmap = gmplot.GoogleMapPlotter(df_map.latitude.min(), df_map.longitude.min(), 10)\n",
    "\n",
    "# Draw border with min/max coordinates\n",
    "gmap.plot(lat_lim, lon_lim, \"cornflowerblue\", edge_width = 2.5)\n",
    "\n",
    "# scatterplot on google maps with starting locations\n",
    "gmap.scatter(df_map.latitude, df_map.longitude, color=\"yellow\", size=100, marker=False)\n",
    "    \n",
    "gmap.draw(\"map.html\")\n",
    "\n",
    "IFrame(src=\"map.html\", width='30%', height='500px')"
   ]
  },
  {
   "cell_type": "markdown",
   "id": "descending-myrtle",
   "metadata": {},
   "source": [
    "### df_reviews"
   ]
  },
  {
   "cell_type": "code",
   "execution_count": 220,
   "id": "great-compression",
   "metadata": {},
   "outputs": [
    {
     "data": {
      "text/plain": [
       "'shape: '"
      ]
     },
     "metadata": {},
     "output_type": "display_data"
    },
    {
     "data": {
      "text/plain": [
       "(84849, 6)"
      ]
     },
     "metadata": {},
     "output_type": "display_data"
    },
    {
     "name": "stdout",
     "output_type": "stream",
     "text": [
      "<class 'pandas.core.frame.DataFrame'>\n",
      "RangeIndex: 84849 entries, 0 to 84848\n",
      "Data columns (total 6 columns):\n",
      " #   Column         Non-Null Count  Dtype \n",
      "---  ------         --------------  ----- \n",
      " 0   listing_id     84849 non-null  int64 \n",
      " 1   id             84849 non-null  int64 \n",
      " 2   date           84849 non-null  object\n",
      " 3   reviewer_id    84849 non-null  int64 \n",
      " 4   reviewer_name  84849 non-null  object\n",
      " 5   comments       84831 non-null  object\n",
      "dtypes: int64(3), object(3)\n",
      "memory usage: 3.9+ MB\n"
     ]
    },
    {
     "data": {
      "text/plain": [
       "'info: '"
      ]
     },
     "metadata": {},
     "output_type": "display_data"
    },
    {
     "data": {
      "text/plain": [
       "None"
      ]
     },
     "metadata": {},
     "output_type": "display_data"
    },
    {
     "data": {
      "text/plain": [
       "'describe: '"
      ]
     },
     "metadata": {},
     "output_type": "display_data"
    },
    {
     "data": {
      "text/html": [
       "<div>\n",
       "<style scoped>\n",
       "    .dataframe tbody tr th:only-of-type {\n",
       "        vertical-align: middle;\n",
       "    }\n",
       "\n",
       "    .dataframe tbody tr th {\n",
       "        vertical-align: top;\n",
       "    }\n",
       "\n",
       "    .dataframe thead th {\n",
       "        text-align: right;\n",
       "    }\n",
       "</style>\n",
       "<table border=\"1\" class=\"dataframe\">\n",
       "  <thead>\n",
       "    <tr style=\"text-align: right;\">\n",
       "      <th></th>\n",
       "      <th>listing_id</th>\n",
       "      <th>id</th>\n",
       "      <th>reviewer_id</th>\n",
       "    </tr>\n",
       "  </thead>\n",
       "  <tbody>\n",
       "    <tr>\n",
       "      <th>count</th>\n",
       "      <td>84849.00</td>\n",
       "      <td>84849.00</td>\n",
       "      <td>84849.00</td>\n",
       "    </tr>\n",
       "    <tr>\n",
       "      <th>mean</th>\n",
       "      <td>3005067.19</td>\n",
       "      <td>30587645.36</td>\n",
       "      <td>17013006.64</td>\n",
       "    </tr>\n",
       "    <tr>\n",
       "      <th>std</th>\n",
       "      <td>2472877.11</td>\n",
       "      <td>16366130.20</td>\n",
       "      <td>13537038.27</td>\n",
       "    </tr>\n",
       "    <tr>\n",
       "      <th>min</th>\n",
       "      <td>4291.00</td>\n",
       "      <td>3721.00</td>\n",
       "      <td>15.00</td>\n",
       "    </tr>\n",
       "    <tr>\n",
       "      <th>25%</th>\n",
       "      <td>794633.00</td>\n",
       "      <td>17251274.00</td>\n",
       "      <td>5053141.00</td>\n",
       "    </tr>\n",
       "    <tr>\n",
       "      <th>50%</th>\n",
       "      <td>2488228.00</td>\n",
       "      <td>32288093.00</td>\n",
       "      <td>14134759.00</td>\n",
       "    </tr>\n",
       "    <tr>\n",
       "      <th>75%</th>\n",
       "      <td>4694479.00</td>\n",
       "      <td>44576477.00</td>\n",
       "      <td>27624023.00</td>\n",
       "    </tr>\n",
       "    <tr>\n",
       "      <th>max</th>\n",
       "      <td>10248139.00</td>\n",
       "      <td>58736511.00</td>\n",
       "      <td>52812740.00</td>\n",
       "    </tr>\n",
       "  </tbody>\n",
       "</table>\n",
       "</div>"
      ],
      "text/plain": [
       "       listing_id          id  reviewer_id\n",
       "count    84849.00    84849.00     84849.00\n",
       "mean   3005067.19 30587645.36  17013006.64\n",
       "std    2472877.11 16366130.20  13537038.27\n",
       "min       4291.00     3721.00        15.00\n",
       "25%     794633.00 17251274.00   5053141.00\n",
       "50%    2488228.00 32288093.00  14134759.00\n",
       "75%    4694479.00 44576477.00  27624023.00\n",
       "max   10248139.00 58736511.00  52812740.00"
      ]
     },
     "metadata": {},
     "output_type": "display_data"
    },
    {
     "data": {
      "text/plain": [
       "'duplicates: '"
      ]
     },
     "metadata": {},
     "output_type": "display_data"
    },
    {
     "data": {
      "text/plain": [
       "0"
      ]
     },
     "metadata": {},
     "output_type": "display_data"
    },
    {
     "name": "stdout",
     "output_type": "stream",
     "text": [
      "total nans:  18  ( =  0.0 % of all values)\n"
     ]
    },
    {
     "data": {
      "text/plain": [
       "'nunique: '"
      ]
     },
     "metadata": {},
     "output_type": "display_data"
    },
    {
     "data": {
      "text/plain": [
       "listing_id        3191\n",
       "id               84849\n",
       "date              1930\n",
       "reviewer_id      75730\n",
       "reviewer_name    14380\n",
       "comments         84136\n",
       "dtype: int64"
      ]
     },
     "metadata": {},
     "output_type": "display_data"
    },
    {
     "data": {
      "text/plain": [
       "'df sample without nans: '"
      ]
     },
     "metadata": {},
     "output_type": "display_data"
    },
    {
     "data": {
      "text/html": [
       "<div>\n",
       "<style scoped>\n",
       "    .dataframe tbody tr th:only-of-type {\n",
       "        vertical-align: middle;\n",
       "    }\n",
       "\n",
       "    .dataframe tbody tr th {\n",
       "        vertical-align: top;\n",
       "    }\n",
       "\n",
       "    .dataframe thead th {\n",
       "        text-align: right;\n",
       "    }\n",
       "</style>\n",
       "<table border=\"1\" class=\"dataframe\">\n",
       "  <thead>\n",
       "    <tr style=\"text-align: right;\">\n",
       "      <th></th>\n",
       "      <th>listing_id</th>\n",
       "      <th>id</th>\n",
       "      <th>date</th>\n",
       "      <th>reviewer_id</th>\n",
       "      <th>reviewer_name</th>\n",
       "      <th>comments</th>\n",
       "    </tr>\n",
       "  </thead>\n",
       "  <tbody>\n",
       "    <tr>\n",
       "      <th>7449</th>\n",
       "      <td>421168</td>\n",
       "      <td>28099143</td>\n",
       "      <td>2015-03-17</td>\n",
       "      <td>27545142</td>\n",
       "      <td>Rene</td>\n",
       "      <td>Samantha had a wonderfully cozy studio that provided us with plenty of options as to what there is to do. Highly recommended!</td>\n",
       "    </tr>\n",
       "    <tr>\n",
       "      <th>9189</th>\n",
       "      <td>134091</td>\n",
       "      <td>1758991</td>\n",
       "      <td>2012-07-21</td>\n",
       "      <td>1863834</td>\n",
       "      <td>Françoise</td>\n",
       "      <td>great house, located in a nice and quiet area. We especially enjoyed the beautifully equipped kitchen and the convenient setting of the eating space that enabled us to feel relaxed and cook in a pleasant atmosphere. Joe replied quickly and kindly. No wonder I would like to rent again when I come back;</td>\n",
       "    </tr>\n",
       "  </tbody>\n",
       "</table>\n",
       "</div>"
      ],
      "text/plain": [
       "      listing_id        id        date  reviewer_id reviewer_name  \\\n",
       "7449      421168  28099143  2015-03-17     27545142          Rene   \n",
       "9189      134091   1758991  2012-07-21      1863834     Françoise   \n",
       "\n",
       "                                                                                                                                                                                                                                                                                                             comments  \n",
       "7449                                                                                                                                                                                    Samantha had a wonderfully cozy studio that provided us with plenty of options as to what there is to do. Highly recommended!  \n",
       "9189  great house, located in a nice and quiet area. We especially enjoyed the beautifully equipped kitchen and the convenient setting of the eating space that enabled us to feel relaxed and cook in a pleasant atmosphere. Joe replied quickly and kindly. No wonder I would like to rent again when I come back;   "
      ]
     },
     "metadata": {},
     "output_type": "display_data"
    },
    {
     "data": {
      "text/plain": [
       "'random row without nans: '"
      ]
     },
     "metadata": {},
     "output_type": "display_data"
    },
    {
     "data": {
      "text/plain": [
       "listing_id                                                                                                                                                                                                                                                                                                                                                                                                                                         456040\n",
       "id                                                                                                                                                                                                                                                                                                                                                                                                                                                9286250\n",
       "date                                                                                                                                                                                                                                                                                                                                                                                                                                           2013-12-18\n",
       "reviewer_id                                                                                                                                                                                                                                                                                                                                                                                                                                       9827604\n",
       "reviewer_name                                                                                                                                                                                                                                                                                                                                                                                                                                       Casey\n",
       "comments         Chantel's big basement was nice and cozy. My girlfriend and I really enjoyed the location as well. We were not too far from many places to make the stay even more accommodating. The hard part was getting used to the figure out what was trash and recycling, but after a few days, we got it down thanks to the helpful guide given to us. I really enjoyed my time visiting Seattle and her home away from home basement was great!\n",
       "Name: 3999, dtype: object"
      ]
     },
     "metadata": {},
     "output_type": "display_data"
    }
   ],
   "source": [
    "get_basic_df_info(df_reviews_orig)"
   ]
  },
  {
   "cell_type": "markdown",
   "id": "based-boston",
   "metadata": {},
   "source": [
    "#### Comments on df_reviews:\n",
    "- transform date column to datetime\n",
    "- rename id column to review_id for clarity\n",
    "- rest looks good"
   ]
  },
  {
   "cell_type": "code",
   "execution_count": 221,
   "id": "pursuant-egypt",
   "metadata": {},
   "outputs": [],
   "source": [
    "# work on copy of original data frame\n",
    "df_reviews = df_reviews_orig.copy()\n",
    "# transform date columns dtype to datetime\n",
    "df_reviews.date = pd.to_datetime(df_reviews.date)\n",
    "# rename id column\n",
    "df_reviews.rename(columns={\"id\": \"review_id\"}, inplace=True)"
   ]
  },
  {
   "cell_type": "code",
   "execution_count": 222,
   "id": "located-longer",
   "metadata": {},
   "outputs": [
    {
     "data": {
      "text/plain": [
       "'shape: '"
      ]
     },
     "metadata": {},
     "output_type": "display_data"
    },
    {
     "data": {
      "text/plain": [
       "(84849, 6)"
      ]
     },
     "metadata": {},
     "output_type": "display_data"
    },
    {
     "name": "stdout",
     "output_type": "stream",
     "text": [
      "<class 'pandas.core.frame.DataFrame'>\n",
      "RangeIndex: 84849 entries, 0 to 84848\n",
      "Data columns (total 6 columns):\n",
      " #   Column         Non-Null Count  Dtype         \n",
      "---  ------         --------------  -----         \n",
      " 0   listing_id     84849 non-null  int64         \n",
      " 1   review_id      84849 non-null  int64         \n",
      " 2   date           84849 non-null  datetime64[ns]\n",
      " 3   reviewer_id    84849 non-null  int64         \n",
      " 4   reviewer_name  84849 non-null  object        \n",
      " 5   comments       84831 non-null  object        \n",
      "dtypes: datetime64[ns](1), int64(3), object(2)\n",
      "memory usage: 3.9+ MB\n"
     ]
    },
    {
     "data": {
      "text/plain": [
       "'info: '"
      ]
     },
     "metadata": {},
     "output_type": "display_data"
    },
    {
     "data": {
      "text/plain": [
       "None"
      ]
     },
     "metadata": {},
     "output_type": "display_data"
    },
    {
     "data": {
      "text/plain": [
       "'describe: '"
      ]
     },
     "metadata": {},
     "output_type": "display_data"
    },
    {
     "data": {
      "text/html": [
       "<div>\n",
       "<style scoped>\n",
       "    .dataframe tbody tr th:only-of-type {\n",
       "        vertical-align: middle;\n",
       "    }\n",
       "\n",
       "    .dataframe tbody tr th {\n",
       "        vertical-align: top;\n",
       "    }\n",
       "\n",
       "    .dataframe thead th {\n",
       "        text-align: right;\n",
       "    }\n",
       "</style>\n",
       "<table border=\"1\" class=\"dataframe\">\n",
       "  <thead>\n",
       "    <tr style=\"text-align: right;\">\n",
       "      <th></th>\n",
       "      <th>listing_id</th>\n",
       "      <th>review_id</th>\n",
       "      <th>reviewer_id</th>\n",
       "    </tr>\n",
       "  </thead>\n",
       "  <tbody>\n",
       "    <tr>\n",
       "      <th>count</th>\n",
       "      <td>84849.00</td>\n",
       "      <td>84849.00</td>\n",
       "      <td>84849.00</td>\n",
       "    </tr>\n",
       "    <tr>\n",
       "      <th>mean</th>\n",
       "      <td>3005067.19</td>\n",
       "      <td>30587645.36</td>\n",
       "      <td>17013006.64</td>\n",
       "    </tr>\n",
       "    <tr>\n",
       "      <th>std</th>\n",
       "      <td>2472877.11</td>\n",
       "      <td>16366130.20</td>\n",
       "      <td>13537038.27</td>\n",
       "    </tr>\n",
       "    <tr>\n",
       "      <th>min</th>\n",
       "      <td>4291.00</td>\n",
       "      <td>3721.00</td>\n",
       "      <td>15.00</td>\n",
       "    </tr>\n",
       "    <tr>\n",
       "      <th>25%</th>\n",
       "      <td>794633.00</td>\n",
       "      <td>17251274.00</td>\n",
       "      <td>5053141.00</td>\n",
       "    </tr>\n",
       "    <tr>\n",
       "      <th>50%</th>\n",
       "      <td>2488228.00</td>\n",
       "      <td>32288093.00</td>\n",
       "      <td>14134759.00</td>\n",
       "    </tr>\n",
       "    <tr>\n",
       "      <th>75%</th>\n",
       "      <td>4694479.00</td>\n",
       "      <td>44576477.00</td>\n",
       "      <td>27624023.00</td>\n",
       "    </tr>\n",
       "    <tr>\n",
       "      <th>max</th>\n",
       "      <td>10248139.00</td>\n",
       "      <td>58736511.00</td>\n",
       "      <td>52812740.00</td>\n",
       "    </tr>\n",
       "  </tbody>\n",
       "</table>\n",
       "</div>"
      ],
      "text/plain": [
       "       listing_id   review_id  reviewer_id\n",
       "count    84849.00    84849.00     84849.00\n",
       "mean   3005067.19 30587645.36  17013006.64\n",
       "std    2472877.11 16366130.20  13537038.27\n",
       "min       4291.00     3721.00        15.00\n",
       "25%     794633.00 17251274.00   5053141.00\n",
       "50%    2488228.00 32288093.00  14134759.00\n",
       "75%    4694479.00 44576477.00  27624023.00\n",
       "max   10248139.00 58736511.00  52812740.00"
      ]
     },
     "metadata": {},
     "output_type": "display_data"
    },
    {
     "data": {
      "text/plain": [
       "'duplicates: '"
      ]
     },
     "metadata": {},
     "output_type": "display_data"
    },
    {
     "data": {
      "text/plain": [
       "0"
      ]
     },
     "metadata": {},
     "output_type": "display_data"
    },
    {
     "name": "stdout",
     "output_type": "stream",
     "text": [
      "total nans:  18  ( =  0.0 % of all values)\n"
     ]
    },
    {
     "data": {
      "text/plain": [
       "'nunique: '"
      ]
     },
     "metadata": {},
     "output_type": "display_data"
    },
    {
     "data": {
      "text/plain": [
       "listing_id        3191\n",
       "review_id        84849\n",
       "date              1930\n",
       "reviewer_id      75730\n",
       "reviewer_name    14380\n",
       "comments         84136\n",
       "dtype: int64"
      ]
     },
     "metadata": {},
     "output_type": "display_data"
    },
    {
     "data": {
      "text/plain": [
       "'df sample without nans: '"
      ]
     },
     "metadata": {},
     "output_type": "display_data"
    },
    {
     "data": {
      "text/html": [
       "<div>\n",
       "<style scoped>\n",
       "    .dataframe tbody tr th:only-of-type {\n",
       "        vertical-align: middle;\n",
       "    }\n",
       "\n",
       "    .dataframe tbody tr th {\n",
       "        vertical-align: top;\n",
       "    }\n",
       "\n",
       "    .dataframe thead th {\n",
       "        text-align: right;\n",
       "    }\n",
       "</style>\n",
       "<table border=\"1\" class=\"dataframe\">\n",
       "  <thead>\n",
       "    <tr style=\"text-align: right;\">\n",
       "      <th></th>\n",
       "      <th>listing_id</th>\n",
       "      <th>review_id</th>\n",
       "      <th>date</th>\n",
       "      <th>reviewer_id</th>\n",
       "      <th>reviewer_name</th>\n",
       "      <th>comments</th>\n",
       "    </tr>\n",
       "  </thead>\n",
       "  <tbody>\n",
       "    <tr>\n",
       "      <th>30880</th>\n",
       "      <td>103466</td>\n",
       "      <td>35780947</td>\n",
       "      <td>2015-06-22</td>\n",
       "      <td>28872787</td>\n",
       "      <td>Mary</td>\n",
       "      <td>The Phinney Ridge Cottage was perfect fit for us. It offered all modern conveniences and was literally a block away from many good places to eat. Sonal was easy to communicate with and very helpful!</td>\n",
       "    </tr>\n",
       "    <tr>\n",
       "      <th>27985</th>\n",
       "      <td>397117</td>\n",
       "      <td>46114921</td>\n",
       "      <td>2015-09-08</td>\n",
       "      <td>4491565</td>\n",
       "      <td>Anna</td>\n",
       "      <td>The apartment is in a great location, as stated, only a few blocks away from Pikes Place Market and in the heart of downtown.  The place is fully stocked with amenities including linens, towels, and shampoo.  In addition, everything in her kitchen was fully functional, and had lots of channels on TV. Lauren was super accommodating by letting us check in early and also checking out later than listed.</td>\n",
       "    </tr>\n",
       "  </tbody>\n",
       "</table>\n",
       "</div>"
      ],
      "text/plain": [
       "       listing_id  review_id       date  reviewer_id reviewer_name  \\\n",
       "30880      103466   35780947 2015-06-22     28872787          Mary   \n",
       "27985      397117   46114921 2015-09-08      4491565          Anna   \n",
       "\n",
       "                                                                                                                                                                                                                                                                                                                                                                                                                  comments  \n",
       "30880                                                                                                                                                                                                             The Phinney Ridge Cottage was perfect fit for us. It offered all modern conveniences and was literally a block away from many good places to eat. Sonal was easy to communicate with and very helpful!    \n",
       "27985  The apartment is in a great location, as stated, only a few blocks away from Pikes Place Market and in the heart of downtown.  The place is fully stocked with amenities including linens, towels, and shampoo.  In addition, everything in her kitchen was fully functional, and had lots of channels on TV. Lauren was super accommodating by letting us check in early and also checking out later than listed.   "
      ]
     },
     "metadata": {},
     "output_type": "display_data"
    },
    {
     "data": {
      "text/plain": [
       "'random row without nans: '"
      ]
     },
     "metadata": {},
     "output_type": "display_data"
    },
    {
     "data": {
      "text/plain": [
       "listing_id                                                                                                                                                            1060467\n",
       "review_id                                                                                                                                                            17948155\n",
       "date                                                                                                                                                      2014-08-19 00:00:00\n",
       "reviewer_id                                                                                                                                                           4101920\n",
       "reviewer_name                                                                                                                                                         Xiaowei\n",
       "comments         The apartment is very nice, location is very close to Space Needle. Hande is a great host, I highly recommend this place to whom wants to travel to Seattle.\n",
       "Name: 64334, dtype: object"
      ]
     },
     "metadata": {},
     "output_type": "display_data"
    }
   ],
   "source": [
    "get_basic_df_info(df_reviews)"
   ]
  },
  {
   "cell_type": "markdown",
   "id": "joined-sampling",
   "metadata": {},
   "source": [
    "### Insights"
   ]
  },
  {
   "cell_type": "markdown",
   "id": "abandoned-healthcare",
   "metadata": {},
   "source": [
    "#### Which are the areas/neighbourhoods with the highest/lowest prices?"
   ]
  },
  {
   "cell_type": "code",
   "execution_count": 223,
   "id": "comfortable-retention",
   "metadata": {},
   "outputs": [
    {
     "data": {
      "image/png": "[encoded data removed]",
      "text/plain": [
       "<Figure size 864x504 with 1 Axes>"
      ]
     },
     "metadata": {
      "needs_background": "light"
     },
     "output_type": "display_data"
    }
   ],
   "source": [
    "df_listings.groupby(by=\"neighbourhood_group_cleansed\").mean().price.sort_values(ascending=True).plot.barh(figsize=(12,7), title=\"Mean airbnb prices in Seattle's neighbourhoods\");\n",
    "plt.xlabel(\"Mean Price [$]\")\n",
    "plt.ylabel(\"Neighbourhood\");"
   ]
  },
  {
   "cell_type": "markdown",
   "id": "southern-palestinian",
   "metadata": {},
   "source": [
    "#### How do the prices and bookings change throughout the year (create seasonal categories?)"
   ]
  },
  {
   "cell_type": "code",
   "execution_count": 224,
   "id": "sunset-advantage",
   "metadata": {},
   "outputs": [
    {
     "data": {
      "image/png": "[encoded data removed]",
      "text/plain": [
       "<Figure size 864x432 with 1 Axes>"
      ]
     },
     "metadata": {
      "needs_background": "light"
     },
     "output_type": "display_data"
    }
   ],
   "source": [
    "df_calendar.groupby(by=\"date\").mean()[[\"price\"]].plot(figsize=(12, 6), color=\"green\", xlabel=\"Date\", ylabel=\"Mean renting price [$]\", title=\"Development of airbnb renting prices in 2016\", grid=True);\n",
    "# plt.xlim(\"2016-03-01\", \"2016-03-16\");"
   ]
  },
  {
   "cell_type": "markdown",
   "id": "confused-hearts",
   "metadata": {},
   "source": [
    "#### Can the prices be predicted with features like neighbourhood, number of rooms, reviews etc.?"
   ]
  },
  {
   "cell_type": "markdown",
   "id": "dimensional-teens",
   "metadata": {},
   "source": [
    "## Modeling & Evaluation"
   ]
  },
  {
   "cell_type": "markdown",
   "id": "confident-injury",
   "metadata": {},
   "source": [
    "### Can we predict an object's price with the given data?"
   ]
  },
  {
   "cell_type": "markdown",
   "id": "helpful-collar",
   "metadata": {},
   "source": [
    "#### Thoughts:\n",
    "- Do i need to fill NaNs?\n",
    "- which columns will have the biggest impact on the prediction?\n",
    "- Normalize data!\n",
    "- Do i need to create Dummies of the Categorical Features?\n",
    "- Deal with Imbalance? Not really, since we just have one value to predict."
   ]
  },
  {
   "cell_type": "code",
   "execution_count": 225,
   "id": "trained-crash",
   "metadata": {},
   "outputs": [
    {
     "data": {
      "text/plain": [
       "Index(['id', 'name', 'summary', 'description', 'host_id', 'street',\n",
       "       'neighbourhood_group_cleansed', 'latitude', 'longitude',\n",
       "       'property_type', 'room_type', 'accommodates', 'bathrooms', 'bedrooms',\n",
       "       'beds', 'square_feet', 'price', 'number_of_reviews',\n",
       "       'review_scores_rating', 'review_scores_accuracy',\n",
       "       'review_scores_cleanliness', 'review_scores_checkin',\n",
       "       'review_scores_communication', 'review_scores_location',\n",
       "       'review_scores_value', 'reviews_per_month'],\n",
       "      dtype='object')"
      ]
     },
     "execution_count": 225,
     "metadata": {},
     "output_type": "execute_result"
    }
   ],
   "source": [
    "df_listings.columns"
   ]
  },
  {
   "cell_type": "code",
   "execution_count": 226,
   "id": "sunrise-transmission",
   "metadata": {},
   "outputs": [
    {
     "data": {
      "text/plain": [
       "host_id                           0\n",
       "bathrooms                        16\n",
       "bedrooms                          6\n",
       "beds                              1\n",
       "square_feet                    3726\n",
       "accommodates                      0\n",
       "number_of_reviews                 0\n",
       "review_scores_rating            647\n",
       "review_scores_accuracy          658\n",
       "review_scores_cleanliness       653\n",
       "review_scores_checkin           658\n",
       "review_scores_communication     651\n",
       "review_scores_location          655\n",
       "review_scores_value             656\n",
       "reviews_per_month               627\n",
       "price                             0\n",
       "dtype: int64"
      ]
     },
     "execution_count": 226,
     "metadata": {},
     "output_type": "execute_result"
    }
   ],
   "source": [
    "# columns to work on before using as training data:\n",
    "# categorical: \"street\", \"neighbourhood_group_cleansed\", \"property_type\", \"room_type\"\n",
    "# numeric: \"square_feet\" -> too many nans (will be dropped)\n",
    "df_listings[[\"host_id\", \"bathrooms\", \"bedrooms\", \"beds\", \"square_feet\", \"accommodates\", \"number_of_reviews\", \"review_scores_rating\", \n",
    "       \"review_scores_accuracy\", \"review_scores_cleanliness\", \"review_scores_checkin\", \"review_scores_communication\", \"review_scores_location\", \"review_scores_value\", \"reviews_per_month\", \n",
    "      \"price\"]].isna().sum()"
   ]
  },
  {
   "cell_type": "code",
   "execution_count": 227,
   "id": "timely-anime",
   "metadata": {},
   "outputs": [
    {
     "data": {
      "text/plain": [
       "(3140, 15)"
      ]
     },
     "execution_count": 227,
     "metadata": {},
     "output_type": "execute_result"
    }
   ],
   "source": [
    "# drop the listings with NaN in the review_scores, since i think replacing the NaNs with zeros or means would biase the result and 3140 listings might still be enough for a model.\n",
    "df_listings[[\"host_id\", \"bathrooms\", \"bedrooms\", \"beds\", \"accommodates\", \"number_of_reviews\", \"review_scores_rating\", \n",
    "       \"review_scores_accuracy\", \"review_scores_cleanliness\", \"review_scores_checkin\", \"review_scores_communication\", \"review_scores_location\", \"review_scores_value\", \"reviews_per_month\", \n",
    "      \"price\"]].dropna().shape"
   ]
  },
  {
   "cell_type": "code",
   "execution_count": 228,
   "id": "radical-occasions",
   "metadata": {},
   "outputs": [],
   "source": [
    "def do_ML(df, Xlist, yLabel):\n",
    "    \"\"\"\n",
    "    input:\n",
    "        df (df): DataFrame containing all needed training and testing data\n",
    "        Xlist (list(str)): list of strings containing the column names of df used as X-Vector/Matrix\n",
    "        yLabel (str): name of column of df to be predicted (y-Value/Vector)\n",
    "    output:\n",
    "        X_train, X_test, y_train, y_test, model, y_test_preds, rsquared_score for evaluation purposes\n",
    "    \"\"\"\n",
    "    \n",
    "    #Drop NaN-Rows\n",
    "    df = df[(Xlist+[yLabel])].dropna()\n",
    "    print(\"Shape of the used df without NaNs: \", df.shape)\n",
    "    \n",
    "    #Split into explanatory and response variables\n",
    "    X = df[Xlist]\n",
    "    y = df[yLabel]\n",
    "\n",
    "    #Split into train and test\n",
    "    X_train, X_test, y_train, y_test = train_test_split(X, y, test_size = .50)  # , random_state=42\n",
    "    \n",
    "    model = LinearRegression(normalize=True)\n",
    "    \"\"\"\n",
    "    pipeline = Pipeline([\n",
    "        (\"scaler\", StandardScaler()),\n",
    "        (\"lr\", LinearRegression()),\n",
    "        #(\"clf\", RandomForestClassifier())\n",
    "    ])\n",
    "    \"\"\"\n",
    "    \n",
    "    #Fit model/pipeline\n",
    "    #pipeline.fit(X_train, y_train)\n",
    "    model.fit(X_train, y_train)\n",
    "    \n",
    "    #Predict and score the model\n",
    "    #y_test_preds = pipeline.predict(X_test)\n",
    "    y_test_preds = model.predict(X_test)\n",
    "\n",
    "    #Rsquared and y_test\n",
    "    rsquared_score = r2_score(y_test, y_test_preds)\n",
    "    length_y_test = len(y_test)\n",
    "\n",
    "    print(\"The r-squared score for your model was {} on {} values.\".format(rsquared_score, length_y_test))\n",
    "    \n",
    "    return X_train, X_test, y_train, y_test, model, y_test_preds, rsquared_score"
   ]
  },
  {
   "cell_type": "code",
   "execution_count": 229,
   "id": "ancient-monroe",
   "metadata": {},
   "outputs": [
    {
     "name": "stdout",
     "output_type": "stream",
     "text": [
      "Shape of the used df without NaNs:  (3140, 15)\n",
      "The r-squared score for your model was 0.46104570122225397 on 1570 values.\n"
     ]
    }
   ],
   "source": [
    "# first try of training without categorical columns:\n",
    "X_train, X_test, y_train, y_test, model, y_test_preds, rsquared_score = do_ML(df_listings, \n",
    "      [\"host_id\", \"bathrooms\", \"bedrooms\", \"beds\", \"accommodates\", \"number_of_reviews\", \"review_scores_rating\", \n",
    "       \"review_scores_accuracy\", \"review_scores_cleanliness\", \"review_scores_checkin\", \"review_scores_communication\", \"review_scores_location\", \"review_scores_value\", \"reviews_per_month\"], \n",
    "      \"price\")"
   ]
  },
  {
   "cell_type": "code",
   "execution_count": 230,
   "id": "ordinary-attraction",
   "metadata": {},
   "outputs": [],
   "source": [
    "def coef_weights(coefficients, X_train):\n",
    "    '''\n",
    "    INPUT:\n",
    "        coefficients: the coefficients of the linear model \n",
    "        X_train (df): the training data, so the column names can be used\n",
    "    OUTPUT:\n",
    "        coefs_df (df): a dataframe holding the coefficient, estimate, and abs(estimate)\n",
    "    '''\n",
    "    coefs_df = pd.DataFrame()\n",
    "    coefs_df['est_int'] = X_train.columns\n",
    "    coefs_df['coefs'] = model.coef_\n",
    "    coefs_df['abs_coefs'] = np.abs(model.coef_)\n",
    "    coefs_df = coefs_df.sort_values('abs_coefs', ascending=False)\n",
    "    \n",
    "    return coefs_df"
   ]
  },
  {
   "cell_type": "code",
   "execution_count": 231,
   "id": "whole-substitute",
   "metadata": {},
   "outputs": [
    {
     "data": {
      "text/html": [
       "<div>\n",
       "<style scoped>\n",
       "    .dataframe tbody tr th:only-of-type {\n",
       "        vertical-align: middle;\n",
       "    }\n",
       "\n",
       "    .dataframe tbody tr th {\n",
       "        vertical-align: top;\n",
       "    }\n",
       "\n",
       "    .dataframe thead th {\n",
       "        text-align: right;\n",
       "    }\n",
       "</style>\n",
       "<table border=\"1\" class=\"dataframe\">\n",
       "  <thead>\n",
       "    <tr style=\"text-align: right;\">\n",
       "      <th></th>\n",
       "      <th>est_int</th>\n",
       "      <th>coefs</th>\n",
       "      <th>abs_coefs</th>\n",
       "    </tr>\n",
       "  </thead>\n",
       "  <tbody>\n",
       "    <tr>\n",
       "      <th>0</th>\n",
       "      <td>bathrooms</td>\n",
       "      <td>25.20</td>\n",
       "      <td>25.20</td>\n",
       "    </tr>\n",
       "    <tr>\n",
       "      <th>1</th>\n",
       "      <td>review_scores_location</td>\n",
       "      <td>19.10</td>\n",
       "      <td>19.10</td>\n",
       "    </tr>\n",
       "    <tr>\n",
       "      <th>2</th>\n",
       "      <td>bedrooms</td>\n",
       "      <td>18.91</td>\n",
       "      <td>18.91</td>\n",
       "    </tr>\n",
       "    <tr>\n",
       "      <th>3</th>\n",
       "      <td>review_scores_value</td>\n",
       "      <td>-17.83</td>\n",
       "      <td>17.83</td>\n",
       "    </tr>\n",
       "    <tr>\n",
       "      <th>4</th>\n",
       "      <td>accommodates</td>\n",
       "      <td>16.13</td>\n",
       "      <td>16.13</td>\n",
       "    </tr>\n",
       "    <tr>\n",
       "      <th>5</th>\n",
       "      <td>review_scores_checkin</td>\n",
       "      <td>-8.01</td>\n",
       "      <td>8.01</td>\n",
       "    </tr>\n",
       "    <tr>\n",
       "      <th>6</th>\n",
       "      <td>review_scores_accuracy</td>\n",
       "      <td>6.35</td>\n",
       "      <td>6.35</td>\n",
       "    </tr>\n",
       "    <tr>\n",
       "      <th>7</th>\n",
       "      <td>review_scores_cleanliness</td>\n",
       "      <td>4.93</td>\n",
       "      <td>4.93</td>\n",
       "    </tr>\n",
       "    <tr>\n",
       "      <th>8</th>\n",
       "      <td>reviews_per_month</td>\n",
       "      <td>-4.67</td>\n",
       "      <td>4.67</td>\n",
       "    </tr>\n",
       "    <tr>\n",
       "      <th>9</th>\n",
       "      <td>beds</td>\n",
       "      <td>1.83</td>\n",
       "      <td>1.83</td>\n",
       "    </tr>\n",
       "    <tr>\n",
       "      <th>10</th>\n",
       "      <td>review_scores_communication</td>\n",
       "      <td>1.79</td>\n",
       "      <td>1.79</td>\n",
       "    </tr>\n",
       "    <tr>\n",
       "      <th>11</th>\n",
       "      <td>review_scores_rating</td>\n",
       "      <td>0.99</td>\n",
       "      <td>0.99</td>\n",
       "    </tr>\n",
       "    <tr>\n",
       "      <th>12</th>\n",
       "      <td>number_of_reviews</td>\n",
       "      <td>-0.01</td>\n",
       "      <td>0.01</td>\n",
       "    </tr>\n",
       "    <tr>\n",
       "      <th>13</th>\n",
       "      <td>host_id</td>\n",
       "      <td>-0.00</td>\n",
       "      <td>0.00</td>\n",
       "    </tr>\n",
       "  </tbody>\n",
       "</table>\n",
       "</div>"
      ],
      "text/plain": [
       "                        est_int  coefs  abs_coefs\n",
       "0                     bathrooms  25.20      25.20\n",
       "1        review_scores_location  19.10      19.10\n",
       "2                      bedrooms  18.91      18.91\n",
       "3           review_scores_value -17.83      17.83\n",
       "4                  accommodates  16.13      16.13\n",
       "5         review_scores_checkin  -8.01       8.01\n",
       "6        review_scores_accuracy   6.35       6.35\n",
       "7     review_scores_cleanliness   4.93       4.93\n",
       "8             reviews_per_month  -4.67       4.67\n",
       "9                          beds   1.83       1.83\n",
       "10  review_scores_communication   1.79       1.79\n",
       "11         review_scores_rating   0.99       0.99\n",
       "12            number_of_reviews  -0.01       0.01\n",
       "13                      host_id  -0.00       0.00"
      ]
     },
     "execution_count": 231,
     "metadata": {},
     "output_type": "execute_result"
    }
   ],
   "source": [
    "# show coefficients with highest impact on model\n",
    "coef_df = coef_weights(pipeline.coef_, X_train)\n",
    "\n",
    "#A quick look at the top results\n",
    "coef_df.reset_index().drop(columns=\"index\")"
   ]
  },
  {
   "cell_type": "markdown",
   "id": "closed-stick",
   "metadata": {},
   "source": [
    "### Let's try to improve the prediction with categorical training data"
   ]
  },
  {
   "cell_type": "code",
   "execution_count": 232,
   "id": "permanent-button",
   "metadata": {},
   "outputs": [],
   "source": [
    "# Dummy the categorical variables\n",
    "list_dummyCols = [\"neighbourhood_group_cleansed\", \"property_type\", \"room_type\"]\n",
    "df_listings2 = df_listings.copy().drop(columns=[\"name\", \"description\", \"summary\", \"street\", \"square_feet\", \"latitude\", \"longitude\"])\n",
    "for dum in  list_dummyCols:\n",
    "    # for each cat add dummy var, drop original column\n",
    "    df_listings2 = pd.concat([df_listings2.drop(dum, axis=1), pd.get_dummies(df_listings2[dum], prefix=dum, prefix_sep='_', drop_first=True)], axis=1)"
   ]
  },
  {
   "cell_type": "code",
   "execution_count": 233,
   "id": "meaningful-eligibility",
   "metadata": {},
   "outputs": [
    {
     "data": {
      "text/plain": [
       "(3818, 49)"
      ]
     },
     "execution_count": 233,
     "metadata": {},
     "output_type": "execute_result"
    }
   ],
   "source": [
    "df_listings2.shape"
   ]
  },
  {
   "cell_type": "code",
   "execution_count": 234,
   "id": "strong-mixer",
   "metadata": {},
   "outputs": [
    {
     "name": "stdout",
     "output_type": "stream",
     "text": [
      "Shape of the used df without NaNs:  (3140, 49)\n",
      "The r-squared score for your model was 0.574818681189223 on 1570 values.\n"
     ]
    }
   ],
   "source": [
    "# training with categorical features\n",
    "X_train, X_test, y_train, y_test, model, y_test_preds, rsquared_score = do_ML(df_listings2, list(df_listings2.drop(columns=\"price\").columns), \"price\")"
   ]
  },
  {
   "cell_type": "code",
   "execution_count": 235,
   "id": "unlike-bulletin",
   "metadata": {},
   "outputs": [
    {
     "data": {
      "text/html": [
       "<div>\n",
       "<style scoped>\n",
       "    .dataframe tbody tr th:only-of-type {\n",
       "        vertical-align: middle;\n",
       "    }\n",
       "\n",
       "    .dataframe tbody tr th {\n",
       "        vertical-align: top;\n",
       "    }\n",
       "\n",
       "    .dataframe thead th {\n",
       "        text-align: right;\n",
       "    }\n",
       "</style>\n",
       "<table border=\"1\" class=\"dataframe\">\n",
       "  <thead>\n",
       "    <tr style=\"text-align: right;\">\n",
       "      <th></th>\n",
       "      <th>Feature</th>\n",
       "      <th>Coefficient</th>\n",
       "      <th>Coefficient_abs</th>\n",
       "    </tr>\n",
       "  </thead>\n",
       "  <tbody>\n",
       "    <tr>\n",
       "      <th>0</th>\n",
       "      <td>property_type_boat</td>\n",
       "      <td>416.93</td>\n",
       "      <td>416.93</td>\n",
       "    </tr>\n",
       "    <tr>\n",
       "      <th>1</th>\n",
       "      <td>room_type_shared room</td>\n",
       "      <td>-67.06</td>\n",
       "      <td>67.06</td>\n",
       "    </tr>\n",
       "    <tr>\n",
       "      <th>2</th>\n",
       "      <td>property_type_dorm</td>\n",
       "      <td>-56.55</td>\n",
       "      <td>56.55</td>\n",
       "    </tr>\n",
       "    <tr>\n",
       "      <th>3</th>\n",
       "      <td>neighbourhood_group_cleansed_magnolia</td>\n",
       "      <td>48.73</td>\n",
       "      <td>48.73</td>\n",
       "    </tr>\n",
       "    <tr>\n",
       "      <th>4</th>\n",
       "      <td>property_type_cabin</td>\n",
       "      <td>36.70</td>\n",
       "      <td>36.70</td>\n",
       "    </tr>\n",
       "    <tr>\n",
       "      <th>5</th>\n",
       "      <td>room_type_private room</td>\n",
       "      <td>-36.18</td>\n",
       "      <td>36.18</td>\n",
       "    </tr>\n",
       "    <tr>\n",
       "      <th>6</th>\n",
       "      <td>neighbourhood_group_cleansed_downtown</td>\n",
       "      <td>30.54</td>\n",
       "      <td>30.54</td>\n",
       "    </tr>\n",
       "    <tr>\n",
       "      <th>7</th>\n",
       "      <td>neighbourhood_group_cleansed_delridge</td>\n",
       "      <td>-28.33</td>\n",
       "      <td>28.33</td>\n",
       "    </tr>\n",
       "    <tr>\n",
       "      <th>8</th>\n",
       "      <td>neighbourhood_group_cleansed_queen anne</td>\n",
       "      <td>27.80</td>\n",
       "      <td>27.80</td>\n",
       "    </tr>\n",
       "    <tr>\n",
       "      <th>9</th>\n",
       "      <td>neighbourhood_group_cleansed_cascade</td>\n",
       "      <td>27.76</td>\n",
       "      <td>27.76</td>\n",
       "    </tr>\n",
       "    <tr>\n",
       "      <th>10</th>\n",
       "      <td>bedrooms</td>\n",
       "      <td>27.54</td>\n",
       "      <td>27.54</td>\n",
       "    </tr>\n",
       "    <tr>\n",
       "      <th>11</th>\n",
       "      <td>bathrooms</td>\n",
       "      <td>27.51</td>\n",
       "      <td>27.51</td>\n",
       "    </tr>\n",
       "    <tr>\n",
       "      <th>12</th>\n",
       "      <td>neighbourhood_group_cleansed_rainier valley</td>\n",
       "      <td>-26.43</td>\n",
       "      <td>26.43</td>\n",
       "    </tr>\n",
       "    <tr>\n",
       "      <th>13</th>\n",
       "      <td>neighbourhood_group_cleansed_northgate</td>\n",
       "      <td>-24.69</td>\n",
       "      <td>24.69</td>\n",
       "    </tr>\n",
       "    <tr>\n",
       "      <th>14</th>\n",
       "      <td>neighbourhood_group_cleansed_beacon hill</td>\n",
       "      <td>-19.69</td>\n",
       "      <td>19.69</td>\n",
       "    </tr>\n",
       "    <tr>\n",
       "      <th>15</th>\n",
       "      <td>neighbourhood_group_cleansed_lake city</td>\n",
       "      <td>-19.36</td>\n",
       "      <td>19.36</td>\n",
       "    </tr>\n",
       "    <tr>\n",
       "      <th>16</th>\n",
       "      <td>property_type_bungalow</td>\n",
       "      <td>17.90</td>\n",
       "      <td>17.90</td>\n",
       "    </tr>\n",
       "    <tr>\n",
       "      <th>17</th>\n",
       "      <td>property_type_loft</td>\n",
       "      <td>16.82</td>\n",
       "      <td>16.82</td>\n",
       "    </tr>\n",
       "    <tr>\n",
       "      <th>18</th>\n",
       "      <td>neighbourhood_group_cleansed_university district</td>\n",
       "      <td>-14.60</td>\n",
       "      <td>14.60</td>\n",
       "    </tr>\n",
       "    <tr>\n",
       "      <th>19</th>\n",
       "      <td>neighbourhood_group_cleansed_capitol hill</td>\n",
       "      <td>13.33</td>\n",
       "      <td>13.33</td>\n",
       "    </tr>\n",
       "    <tr>\n",
       "      <th>20</th>\n",
       "      <td>neighbourhood_group_cleansed_seward park</td>\n",
       "      <td>-9.55</td>\n",
       "      <td>9.55</td>\n",
       "    </tr>\n",
       "    <tr>\n",
       "      <th>21</th>\n",
       "      <td>accommodates</td>\n",
       "      <td>9.45</td>\n",
       "      <td>9.45</td>\n",
       "    </tr>\n",
       "    <tr>\n",
       "      <th>22</th>\n",
       "      <td>review_scores_value</td>\n",
       "      <td>-9.03</td>\n",
       "      <td>9.03</td>\n",
       "    </tr>\n",
       "    <tr>\n",
       "      <th>23</th>\n",
       "      <td>neighbourhood_group_cleansed_other neighborhoods</td>\n",
       "      <td>-8.71</td>\n",
       "      <td>8.71</td>\n",
       "    </tr>\n",
       "    <tr>\n",
       "      <th>24</th>\n",
       "      <td>neighbourhood_group_cleansed_west seattle</td>\n",
       "      <td>-8.28</td>\n",
       "      <td>8.28</td>\n",
       "    </tr>\n",
       "    <tr>\n",
       "      <th>25</th>\n",
       "      <td>neighbourhood_group_cleansed_interbay</td>\n",
       "      <td>-7.18</td>\n",
       "      <td>7.18</td>\n",
       "    </tr>\n",
       "    <tr>\n",
       "      <th>26</th>\n",
       "      <td>property_type_condominium</td>\n",
       "      <td>6.85</td>\n",
       "      <td>6.85</td>\n",
       "    </tr>\n",
       "    <tr>\n",
       "      <th>27</th>\n",
       "      <td>property_type_house</td>\n",
       "      <td>6.33</td>\n",
       "      <td>6.33</td>\n",
       "    </tr>\n",
       "    <tr>\n",
       "      <th>28</th>\n",
       "      <td>review_scores_location</td>\n",
       "      <td>6.15</td>\n",
       "      <td>6.15</td>\n",
       "    </tr>\n",
       "    <tr>\n",
       "      <th>29</th>\n",
       "      <td>property_type_bed &amp; breakfast</td>\n",
       "      <td>5.15</td>\n",
       "      <td>5.15</td>\n",
       "    </tr>\n",
       "    <tr>\n",
       "      <th>30</th>\n",
       "      <td>review_scores_accuracy</td>\n",
       "      <td>4.83</td>\n",
       "      <td>4.83</td>\n",
       "    </tr>\n",
       "    <tr>\n",
       "      <th>31</th>\n",
       "      <td>neighbourhood_group_cleansed_central area</td>\n",
       "      <td>-4.11</td>\n",
       "      <td>4.11</td>\n",
       "    </tr>\n",
       "    <tr>\n",
       "      <th>32</th>\n",
       "      <td>reviews_per_month</td>\n",
       "      <td>-3.06</td>\n",
       "      <td>3.06</td>\n",
       "    </tr>\n",
       "    <tr>\n",
       "      <th>33</th>\n",
       "      <td>review_scores_cleanliness</td>\n",
       "      <td>2.82</td>\n",
       "      <td>2.82</td>\n",
       "    </tr>\n",
       "    <tr>\n",
       "      <th>34</th>\n",
       "      <td>property_type_other</td>\n",
       "      <td>-1.58</td>\n",
       "      <td>1.58</td>\n",
       "    </tr>\n",
       "    <tr>\n",
       "      <th>35</th>\n",
       "      <td>property_type_townhouse</td>\n",
       "      <td>1.43</td>\n",
       "      <td>1.43</td>\n",
       "    </tr>\n",
       "    <tr>\n",
       "      <th>36</th>\n",
       "      <td>review_scores_checkin</td>\n",
       "      <td>-1.12</td>\n",
       "      <td>1.12</td>\n",
       "    </tr>\n",
       "    <tr>\n",
       "      <th>37</th>\n",
       "      <td>review_scores_communication</td>\n",
       "      <td>-0.93</td>\n",
       "      <td>0.93</td>\n",
       "    </tr>\n",
       "    <tr>\n",
       "      <th>38</th>\n",
       "      <td>review_scores_rating</td>\n",
       "      <td>0.78</td>\n",
       "      <td>0.78</td>\n",
       "    </tr>\n",
       "    <tr>\n",
       "      <th>39</th>\n",
       "      <td>beds</td>\n",
       "      <td>-0.69</td>\n",
       "      <td>0.69</td>\n",
       "    </tr>\n",
       "    <tr>\n",
       "      <th>40</th>\n",
       "      <td>property_type_camper/rv</td>\n",
       "      <td>0.56</td>\n",
       "      <td>0.56</td>\n",
       "    </tr>\n",
       "    <tr>\n",
       "      <th>41</th>\n",
       "      <td>number_of_reviews</td>\n",
       "      <td>-0.08</td>\n",
       "      <td>0.08</td>\n",
       "    </tr>\n",
       "    <tr>\n",
       "      <th>42</th>\n",
       "      <td>id</td>\n",
       "      <td>-0.00</td>\n",
       "      <td>0.00</td>\n",
       "    </tr>\n",
       "    <tr>\n",
       "      <th>43</th>\n",
       "      <td>host_id</td>\n",
       "      <td>0.00</td>\n",
       "      <td>0.00</td>\n",
       "    </tr>\n",
       "    <tr>\n",
       "      <th>44</th>\n",
       "      <td>property_type_chalet</td>\n",
       "      <td>0.00</td>\n",
       "      <td>0.00</td>\n",
       "    </tr>\n",
       "    <tr>\n",
       "      <th>45</th>\n",
       "      <td>property_type_tent</td>\n",
       "      <td>-0.00</td>\n",
       "      <td>0.00</td>\n",
       "    </tr>\n",
       "    <tr>\n",
       "      <th>46</th>\n",
       "      <td>property_type_treehouse</td>\n",
       "      <td>0.00</td>\n",
       "      <td>0.00</td>\n",
       "    </tr>\n",
       "    <tr>\n",
       "      <th>47</th>\n",
       "      <td>property_type_yurt</td>\n",
       "      <td>0.00</td>\n",
       "      <td>0.00</td>\n",
       "    </tr>\n",
       "  </tbody>\n",
       "</table>\n",
       "</div>"
      ],
      "text/plain": [
       "                                             Feature  Coefficient  \\\n",
       "0                                 property_type_boat       416.93   \n",
       "1                              room_type_shared room       -67.06   \n",
       "2                                 property_type_dorm       -56.55   \n",
       "3              neighbourhood_group_cleansed_magnolia        48.73   \n",
       "4                                property_type_cabin        36.70   \n",
       "5                             room_type_private room       -36.18   \n",
       "6              neighbourhood_group_cleansed_downtown        30.54   \n",
       "7              neighbourhood_group_cleansed_delridge       -28.33   \n",
       "8            neighbourhood_group_cleansed_queen anne        27.80   \n",
       "9               neighbourhood_group_cleansed_cascade        27.76   \n",
       "10                                          bedrooms        27.54   \n",
       "11                                         bathrooms        27.51   \n",
       "12       neighbourhood_group_cleansed_rainier valley       -26.43   \n",
       "13            neighbourhood_group_cleansed_northgate       -24.69   \n",
       "14          neighbourhood_group_cleansed_beacon hill       -19.69   \n",
       "15            neighbourhood_group_cleansed_lake city       -19.36   \n",
       "16                            property_type_bungalow        17.90   \n",
       "17                                property_type_loft        16.82   \n",
       "18  neighbourhood_group_cleansed_university district       -14.60   \n",
       "19         neighbourhood_group_cleansed_capitol hill        13.33   \n",
       "20          neighbourhood_group_cleansed_seward park        -9.55   \n",
       "21                                      accommodates         9.45   \n",
       "22                               review_scores_value        -9.03   \n",
       "23  neighbourhood_group_cleansed_other neighborhoods        -8.71   \n",
       "24         neighbourhood_group_cleansed_west seattle        -8.28   \n",
       "25             neighbourhood_group_cleansed_interbay        -7.18   \n",
       "26                         property_type_condominium         6.85   \n",
       "27                               property_type_house         6.33   \n",
       "28                            review_scores_location         6.15   \n",
       "29                     property_type_bed & breakfast         5.15   \n",
       "30                            review_scores_accuracy         4.83   \n",
       "31         neighbourhood_group_cleansed_central area        -4.11   \n",
       "32                                 reviews_per_month        -3.06   \n",
       "33                         review_scores_cleanliness         2.82   \n",
       "34                               property_type_other        -1.58   \n",
       "35                           property_type_townhouse         1.43   \n",
       "36                             review_scores_checkin        -1.12   \n",
       "37                       review_scores_communication        -0.93   \n",
       "38                              review_scores_rating         0.78   \n",
       "39                                              beds        -0.69   \n",
       "40                           property_type_camper/rv         0.56   \n",
       "41                                 number_of_reviews        -0.08   \n",
       "42                                                id        -0.00   \n",
       "43                                           host_id         0.00   \n",
       "44                              property_type_chalet         0.00   \n",
       "45                                property_type_tent        -0.00   \n",
       "46                           property_type_treehouse         0.00   \n",
       "47                                property_type_yurt         0.00   \n",
       "\n",
       "    Coefficient_abs  \n",
       "0            416.93  \n",
       "1             67.06  \n",
       "2             56.55  \n",
       "3             48.73  \n",
       "4             36.70  \n",
       "5             36.18  \n",
       "6             30.54  \n",
       "7             28.33  \n",
       "8             27.80  \n",
       "9             27.76  \n",
       "10            27.54  \n",
       "11            27.51  \n",
       "12            26.43  \n",
       "13            24.69  \n",
       "14            19.69  \n",
       "15            19.36  \n",
       "16            17.90  \n",
       "17            16.82  \n",
       "18            14.60  \n",
       "19            13.33  \n",
       "20             9.55  \n",
       "21             9.45  \n",
       "22             9.03  \n",
       "23             8.71  \n",
       "24             8.28  \n",
       "25             7.18  \n",
       "26             6.85  \n",
       "27             6.33  \n",
       "28             6.15  \n",
       "29             5.15  \n",
       "30             4.83  \n",
       "31             4.11  \n",
       "32             3.06  \n",
       "33             2.82  \n",
       "34             1.58  \n",
       "35             1.43  \n",
       "36             1.12  \n",
       "37             0.93  \n",
       "38             0.78  \n",
       "39             0.69  \n",
       "40             0.56  \n",
       "41             0.08  \n",
       "42             0.00  \n",
       "43             0.00  \n",
       "44             0.00  \n",
       "45             0.00  \n",
       "46             0.00  \n",
       "47             0.00  "
      ]
     },
     "execution_count": 235,
     "metadata": {},
     "output_type": "execute_result"
    }
   ],
   "source": [
    "# show coefficients with highest impact on model\n",
    "coef_df = coef_weights(model.coef_, X_train)\n",
    "\n",
    "#A quick look at the top results\n",
    "pretty_df = coef_df.reset_index().drop(columns=\"index\")\n",
    "pretty_df.columns = [\"Feature\", \"Coefficient\", \"Coefficient_abs\"]\n",
    "pretty_df"
   ]
  },
  {
   "cell_type": "markdown",
   "id": "functional-nirvana",
   "metadata": {},
   "source": [
    "#### Conclusion: The object prices can be predicted with the given data. Especially property types and neighbourhoods are strong indicators. A more complex model might achieve much better results!"
   ]
  },
  {
   "cell_type": "markdown",
   "id": "preliminary-texture",
   "metadata": {},
   "source": [
    "### Can the review score of an object be predicted?"
   ]
  },
  {
   "cell_type": "code",
   "execution_count": 236,
   "id": "severe-certificate",
   "metadata": {},
   "outputs": [
    {
     "name": "stdout",
     "output_type": "stream",
     "text": [
      "Shape of the used df without NaNs:  (3153, 43)\n",
      "The r-squared score for your model was 0.028415302129295994 on 1577 values.\n"
     ]
    }
   ],
   "source": [
    "# first try of training without categorical columns:\n",
    "list_reviewScores = [\"review_scores_rating\", \"review_scores_accuracy\", \"review_scores_cleanliness\", \"review_scores_checkin\", \"review_scores_communication\", \"review_scores_location\", \"review_scores_value\"]\n",
    "X_train, X_test, y_train, y_test, model, y_test_preds, rsquared_score = do_ML(df_listings2, list(df_listings2.drop(columns=list_reviewScores).columns), \"review_scores_rating\")"
   ]
  },
  {
   "cell_type": "code",
   "execution_count": 237,
   "id": "frozen-guidance",
   "metadata": {},
   "outputs": [
    {
     "data": {
      "text/html": [
       "<div>\n",
       "<style scoped>\n",
       "    .dataframe tbody tr th:only-of-type {\n",
       "        vertical-align: middle;\n",
       "    }\n",
       "\n",
       "    .dataframe tbody tr th {\n",
       "        vertical-align: top;\n",
       "    }\n",
       "\n",
       "    .dataframe thead th {\n",
       "        text-align: right;\n",
       "    }\n",
       "</style>\n",
       "<table border=\"1\" class=\"dataframe\">\n",
       "  <thead>\n",
       "    <tr style=\"text-align: right;\">\n",
       "      <th></th>\n",
       "      <th>Feature</th>\n",
       "      <th>Coefficient</th>\n",
       "      <th>Coefficient_abs</th>\n",
       "    </tr>\n",
       "  </thead>\n",
       "  <tbody>\n",
       "    <tr>\n",
       "      <th>0</th>\n",
       "      <td>neighbourhood_group_cleansed_university district</td>\n",
       "      <td>-6.96</td>\n",
       "      <td>6.96</td>\n",
       "    </tr>\n",
       "    <tr>\n",
       "      <th>1</th>\n",
       "      <td>property_type_dorm</td>\n",
       "      <td>-6.75</td>\n",
       "      <td>6.75</td>\n",
       "    </tr>\n",
       "    <tr>\n",
       "      <th>2</th>\n",
       "      <td>neighbourhood_group_cleansed_interbay</td>\n",
       "      <td>-5.08</td>\n",
       "      <td>5.08</td>\n",
       "    </tr>\n",
       "    <tr>\n",
       "      <th>3</th>\n",
       "      <td>neighbourhood_group_cleansed_cascade</td>\n",
       "      <td>-3.62</td>\n",
       "      <td>3.62</td>\n",
       "    </tr>\n",
       "    <tr>\n",
       "      <th>4</th>\n",
       "      <td>property_type_bungalow</td>\n",
       "      <td>2.68</td>\n",
       "      <td>2.68</td>\n",
       "    </tr>\n",
       "    <tr>\n",
       "      <th>5</th>\n",
       "      <td>property_type_boat</td>\n",
       "      <td>2.62</td>\n",
       "      <td>2.62</td>\n",
       "    </tr>\n",
       "    <tr>\n",
       "      <th>6</th>\n",
       "      <td>neighbourhood_group_cleansed_downtown</td>\n",
       "      <td>-1.84</td>\n",
       "      <td>1.84</td>\n",
       "    </tr>\n",
       "    <tr>\n",
       "      <th>7</th>\n",
       "      <td>neighbourhood_group_cleansed_beacon hill</td>\n",
       "      <td>-1.66</td>\n",
       "      <td>1.66</td>\n",
       "    </tr>\n",
       "    <tr>\n",
       "      <th>8</th>\n",
       "      <td>property_type_townhouse</td>\n",
       "      <td>1.60</td>\n",
       "      <td>1.60</td>\n",
       "    </tr>\n",
       "    <tr>\n",
       "      <th>9</th>\n",
       "      <td>property_type_treehouse</td>\n",
       "      <td>1.46</td>\n",
       "      <td>1.46</td>\n",
       "    </tr>\n",
       "    <tr>\n",
       "      <th>10</th>\n",
       "      <td>property_type_condominium</td>\n",
       "      <td>1.42</td>\n",
       "      <td>1.42</td>\n",
       "    </tr>\n",
       "    <tr>\n",
       "      <th>11</th>\n",
       "      <td>neighbourhood_group_cleansed_capitol hill</td>\n",
       "      <td>-1.20</td>\n",
       "      <td>1.20</td>\n",
       "    </tr>\n",
       "    <tr>\n",
       "      <th>12</th>\n",
       "      <td>neighbourhood_group_cleansed_lake city</td>\n",
       "      <td>-1.01</td>\n",
       "      <td>1.01</td>\n",
       "    </tr>\n",
       "    <tr>\n",
       "      <th>13</th>\n",
       "      <td>neighbourhood_group_cleansed_rainier valley</td>\n",
       "      <td>-0.95</td>\n",
       "      <td>0.95</td>\n",
       "    </tr>\n",
       "    <tr>\n",
       "      <th>14</th>\n",
       "      <td>property_type_tent</td>\n",
       "      <td>-0.88</td>\n",
       "      <td>0.88</td>\n",
       "    </tr>\n",
       "    <tr>\n",
       "      <th>15</th>\n",
       "      <td>neighbourhood_group_cleansed_west seattle</td>\n",
       "      <td>0.74</td>\n",
       "      <td>0.74</td>\n",
       "    </tr>\n",
       "    <tr>\n",
       "      <th>16</th>\n",
       "      <td>property_type_bed &amp; breakfast</td>\n",
       "      <td>0.74</td>\n",
       "      <td>0.74</td>\n",
       "    </tr>\n",
       "    <tr>\n",
       "      <th>17</th>\n",
       "      <td>neighbourhood_group_cleansed_queen anne</td>\n",
       "      <td>-0.73</td>\n",
       "      <td>0.73</td>\n",
       "    </tr>\n",
       "    <tr>\n",
       "      <th>18</th>\n",
       "      <td>property_type_cabin</td>\n",
       "      <td>0.72</td>\n",
       "      <td>0.72</td>\n",
       "    </tr>\n",
       "    <tr>\n",
       "      <th>19</th>\n",
       "      <td>neighbourhood_group_cleansed_northgate</td>\n",
       "      <td>-0.69</td>\n",
       "      <td>0.69</td>\n",
       "    </tr>\n",
       "    <tr>\n",
       "      <th>20</th>\n",
       "      <td>property_type_camper/rv</td>\n",
       "      <td>0.66</td>\n",
       "      <td>0.66</td>\n",
       "    </tr>\n",
       "    <tr>\n",
       "      <th>21</th>\n",
       "      <td>accommodates</td>\n",
       "      <td>-0.64</td>\n",
       "      <td>0.64</td>\n",
       "    </tr>\n",
       "    <tr>\n",
       "      <th>22</th>\n",
       "      <td>bathrooms</td>\n",
       "      <td>0.59</td>\n",
       "      <td>0.59</td>\n",
       "    </tr>\n",
       "    <tr>\n",
       "      <th>23</th>\n",
       "      <td>room_type_shared room</td>\n",
       "      <td>-0.51</td>\n",
       "      <td>0.51</td>\n",
       "    </tr>\n",
       "    <tr>\n",
       "      <th>24</th>\n",
       "      <td>neighbourhood_group_cleansed_other neighborhoods</td>\n",
       "      <td>-0.48</td>\n",
       "      <td>0.48</td>\n",
       "    </tr>\n",
       "    <tr>\n",
       "      <th>25</th>\n",
       "      <td>property_type_other</td>\n",
       "      <td>0.47</td>\n",
       "      <td>0.47</td>\n",
       "    </tr>\n",
       "    <tr>\n",
       "      <th>26</th>\n",
       "      <td>reviews_per_month</td>\n",
       "      <td>0.45</td>\n",
       "      <td>0.45</td>\n",
       "    </tr>\n",
       "    <tr>\n",
       "      <th>27</th>\n",
       "      <td>room_type_private room</td>\n",
       "      <td>-0.37</td>\n",
       "      <td>0.37</td>\n",
       "    </tr>\n",
       "    <tr>\n",
       "      <th>28</th>\n",
       "      <td>neighbourhood_group_cleansed_delridge</td>\n",
       "      <td>0.35</td>\n",
       "      <td>0.35</td>\n",
       "    </tr>\n",
       "    <tr>\n",
       "      <th>29</th>\n",
       "      <td>property_type_loft</td>\n",
       "      <td>0.29</td>\n",
       "      <td>0.29</td>\n",
       "    </tr>\n",
       "    <tr>\n",
       "      <th>30</th>\n",
       "      <td>bedrooms</td>\n",
       "      <td>0.26</td>\n",
       "      <td>0.26</td>\n",
       "    </tr>\n",
       "    <tr>\n",
       "      <th>31</th>\n",
       "      <td>neighbourhood_group_cleansed_seward park</td>\n",
       "      <td>-0.14</td>\n",
       "      <td>0.14</td>\n",
       "    </tr>\n",
       "    <tr>\n",
       "      <th>32</th>\n",
       "      <td>neighbourhood_group_cleansed_central area</td>\n",
       "      <td>0.12</td>\n",
       "      <td>0.12</td>\n",
       "    </tr>\n",
       "    <tr>\n",
       "      <th>33</th>\n",
       "      <td>neighbourhood_group_cleansed_magnolia</td>\n",
       "      <td>-0.12</td>\n",
       "      <td>0.12</td>\n",
       "    </tr>\n",
       "    <tr>\n",
       "      <th>34</th>\n",
       "      <td>property_type_house</td>\n",
       "      <td>-0.09</td>\n",
       "      <td>0.09</td>\n",
       "    </tr>\n",
       "    <tr>\n",
       "      <th>35</th>\n",
       "      <td>beds</td>\n",
       "      <td>0.05</td>\n",
       "      <td>0.05</td>\n",
       "    </tr>\n",
       "    <tr>\n",
       "      <th>36</th>\n",
       "      <td>price</td>\n",
       "      <td>0.01</td>\n",
       "      <td>0.01</td>\n",
       "    </tr>\n",
       "    <tr>\n",
       "      <th>37</th>\n",
       "      <td>number_of_reviews</td>\n",
       "      <td>0.00</td>\n",
       "      <td>0.00</td>\n",
       "    </tr>\n",
       "    <tr>\n",
       "      <th>38</th>\n",
       "      <td>id</td>\n",
       "      <td>0.00</td>\n",
       "      <td>0.00</td>\n",
       "    </tr>\n",
       "    <tr>\n",
       "      <th>39</th>\n",
       "      <td>host_id</td>\n",
       "      <td>-0.00</td>\n",
       "      <td>0.00</td>\n",
       "    </tr>\n",
       "    <tr>\n",
       "      <th>40</th>\n",
       "      <td>property_type_chalet</td>\n",
       "      <td>-0.00</td>\n",
       "      <td>0.00</td>\n",
       "    </tr>\n",
       "    <tr>\n",
       "      <th>41</th>\n",
       "      <td>property_type_yurt</td>\n",
       "      <td>0.00</td>\n",
       "      <td>0.00</td>\n",
       "    </tr>\n",
       "  </tbody>\n",
       "</table>\n",
       "</div>"
      ],
      "text/plain": [
       "                                             Feature  Coefficient  \\\n",
       "0   neighbourhood_group_cleansed_university district        -6.96   \n",
       "1                                 property_type_dorm        -6.75   \n",
       "2              neighbourhood_group_cleansed_interbay        -5.08   \n",
       "3               neighbourhood_group_cleansed_cascade        -3.62   \n",
       "4                             property_type_bungalow         2.68   \n",
       "5                                 property_type_boat         2.62   \n",
       "6              neighbourhood_group_cleansed_downtown        -1.84   \n",
       "7           neighbourhood_group_cleansed_beacon hill        -1.66   \n",
       "8                            property_type_townhouse         1.60   \n",
       "9                            property_type_treehouse         1.46   \n",
       "10                         property_type_condominium         1.42   \n",
       "11         neighbourhood_group_cleansed_capitol hill        -1.20   \n",
       "12            neighbourhood_group_cleansed_lake city        -1.01   \n",
       "13       neighbourhood_group_cleansed_rainier valley        -0.95   \n",
       "14                                property_type_tent        -0.88   \n",
       "15         neighbourhood_group_cleansed_west seattle         0.74   \n",
       "16                     property_type_bed & breakfast         0.74   \n",
       "17           neighbourhood_group_cleansed_queen anne        -0.73   \n",
       "18                               property_type_cabin         0.72   \n",
       "19            neighbourhood_group_cleansed_northgate        -0.69   \n",
       "20                           property_type_camper/rv         0.66   \n",
       "21                                      accommodates        -0.64   \n",
       "22                                         bathrooms         0.59   \n",
       "23                             room_type_shared room        -0.51   \n",
       "24  neighbourhood_group_cleansed_other neighborhoods        -0.48   \n",
       "25                               property_type_other         0.47   \n",
       "26                                 reviews_per_month         0.45   \n",
       "27                            room_type_private room        -0.37   \n",
       "28             neighbourhood_group_cleansed_delridge         0.35   \n",
       "29                                property_type_loft         0.29   \n",
       "30                                          bedrooms         0.26   \n",
       "31          neighbourhood_group_cleansed_seward park        -0.14   \n",
       "32         neighbourhood_group_cleansed_central area         0.12   \n",
       "33             neighbourhood_group_cleansed_magnolia        -0.12   \n",
       "34                               property_type_house        -0.09   \n",
       "35                                              beds         0.05   \n",
       "36                                             price         0.01   \n",
       "37                                 number_of_reviews         0.00   \n",
       "38                                                id         0.00   \n",
       "39                                           host_id        -0.00   \n",
       "40                              property_type_chalet        -0.00   \n",
       "41                                property_type_yurt         0.00   \n",
       "\n",
       "    Coefficient_abs  \n",
       "0              6.96  \n",
       "1              6.75  \n",
       "2              5.08  \n",
       "3              3.62  \n",
       "4              2.68  \n",
       "5              2.62  \n",
       "6              1.84  \n",
       "7              1.66  \n",
       "8              1.60  \n",
       "9              1.46  \n",
       "10             1.42  \n",
       "11             1.20  \n",
       "12             1.01  \n",
       "13             0.95  \n",
       "14             0.88  \n",
       "15             0.74  \n",
       "16             0.74  \n",
       "17             0.73  \n",
       "18             0.72  \n",
       "19             0.69  \n",
       "20             0.66  \n",
       "21             0.64  \n",
       "22             0.59  \n",
       "23             0.51  \n",
       "24             0.48  \n",
       "25             0.47  \n",
       "26             0.45  \n",
       "27             0.37  \n",
       "28             0.35  \n",
       "29             0.29  \n",
       "30             0.26  \n",
       "31             0.14  \n",
       "32             0.12  \n",
       "33             0.12  \n",
       "34             0.09  \n",
       "35             0.05  \n",
       "36             0.01  \n",
       "37             0.00  \n",
       "38             0.00  \n",
       "39             0.00  \n",
       "40             0.00  \n",
       "41             0.00  "
      ]
     },
     "execution_count": 237,
     "metadata": {},
     "output_type": "execute_result"
    }
   ],
   "source": [
    "# show coefficients with highest impact on model\n",
    "coef_df = coef_weights(model.coef_, X_train)\n",
    "\n",
    "#A quick look at the top results\n",
    "pretty_df = coef_df.reset_index().drop(columns=\"index\")\n",
    "pretty_df.columns = [\"Feature\", \"Coefficient\", \"Coefficient_abs\"]\n",
    "pretty_df"
   ]
  },
  {
   "cell_type": "markdown",
   "id": "otherwise-expert",
   "metadata": {},
   "source": [
    "#### Conclusion: The easy model used is not capable of predicting the review_scores_rating with the given information."
   ]
  },
  {
   "cell_type": "markdown",
   "id": "ecological-ladder",
   "metadata": {},
   "source": [
    "## Blog Post"
   ]
  },
  {
   "cell_type": "markdown",
   "id": "changed-monster",
   "metadata": {},
   "source": [
    "The blog post to this analysis can be found on my homepage https://kalinka.synology.me"
   ]
  }
 ],
 "metadata": {
  "hide_input": false,
  "kernelspec": {
   "display_name": "Python 3",
   "language": "python",
   "name": "python3"
  },
  "language_info": {
   "codemirror_mode": {
    "name": "ipython",
    "version": 3
   },
   "file_extension": ".py",
   "mimetype": "text/x-python",
   "name": "python",
   "nbconvert_exporter": "python",
   "pygments_lexer": "ipython3",
   "version": "3.8.0"
  },
  "toc": {
   "base_numbering": 1,
   "nav_menu": {},
   "number_sections": false,
   "sideBar": true,
   "skip_h1_title": true,
   "title_cell": "Table of Contents",
   "title_sidebar": "Contents",
   "toc_cell": true,
   "toc_position": {
    "height": "calc(100% - 180px)",
    "left": "10px",
    "top": "150px",
    "width": "274.444px"
   },
   "toc_section_display": true,
   "toc_window_display": false
  },
  "varInspector": {
   "cols": {
    "lenName": 16,
    "lenType": 16,
    "lenVar": 40
   },
   "kernels_config": {
    "python": {
     "delete_cmd_postfix": "",
     "delete_cmd_prefix": "del ",
     "library": "var_list.py",
     "varRefreshCmd": "print(var_dic_list())"
    },
    "r": {
     "delete_cmd_postfix": ") ",
     "delete_cmd_prefix": "rm(",
     "library": "var_list.r",
     "varRefreshCmd": "cat(var_dic_list()) "
    }
   },
   "types_to_exclude": [
    "module",
    "function",
    "builtin_function_or_method",
    "instance",
    "_Feature"
   ],
   "window_display": false
  }
 },
 "nbformat": 4,
 "nbformat_minor": 5
}
